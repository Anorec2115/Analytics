{
 "cells": [
  {
   "cell_type": "markdown",
   "id": "4b47f98a",
   "metadata": {},
   "source": [
    "# Содержание\n",
    "\n",
    "1. Цель и задачи проекта\n",
    "2. Загрузка данных, ознакомление с ними и предобработка\n",
    "   2.1 Подключение необходимых библиотек\n",
    "   2.2 Получение данных таблицы посещений\n",
    "   2.3 Предобработка (таблица посещений): проверка на наличие пропусков, дубликатов, переименрование столбцов, изменение типа данных\n",
    "   2.4 Получение данных таблицы заказов\n",
    "   2.5 Предобработка (таблица заказов): проверка на наличие пропусков, дубликатов, переименрование столбцов, изменение типа данных\n",
    "   2.6 Получение данных таблицы расходов на рекламу\n",
    "   2.7 Предобработка (таблица расходов на рекламу): проверка на наличие пропусков, дубликатов, изменение типа данных\n",
    "   2.8 Вывод.\n",
    "3. Узнаем на какой источник было потрачено больше всего средств за год\n",
    "4. Зададим функции для расчета и анализа LTV\n",
    "   4.1 Функция для создания пользовательских профилей\n",
    "   4.2 Получим таблицу профилей, вызвав функцию get_profiles\n",
    "   4.3 Напишем функцию для расчета LTV\n",
    "5. Исследовательский анализ\n",
    "   5.1 Выясним на какой источник приходится больше всего платящих пользователей.\n",
    "   5.2 Определим с какого устройства приходит больше всего платящих пользователей\n",
    "6. Найдем средний LTV пользователей, которые впервые пришли до декабря 2017 года\n",
    "   6.1 Получение среза датафрейма в соответствии с датой\n",
    "   6.2 Вызовем функцию get_ltv\n",
    "   6.3 Найдем средний и суммарный показатель LTV\n",
    "7. Определим какая когорта (по месяцам первого посещения) принесла больше всего денег за полгода жизни\n",
    "   7.1 Посмотрим на показатели пользователей с лайфтаймом в пол года\n",
    "   7.2 Визуализируем общий LTV в динамике за пол года\n",
    "   7.3 Визуализируем LTV за пол года жизни в динамики по когортам первого посещения\n",
    "8. Оценим распределение LTV по источнику привлечения и устройству\n",
    "   8.1 Получим таблицы LTV с параметром dimensions на источник\n",
    "   8.2 Визуализируем LTV в соответствии с источником привлечения пользователей\n",
    "   8.3 Получим таблицы LTV, но уже с параметром dimensions на устройство\n",
    "   8.4 Визуализируем LTV в соответствии с устройством пользователя\n",
    "9. Вывод по проекту и рекомендации\n",
    "10. Презентация"
   ]
  },
  {
   "cell_type": "markdown",
   "id": "e2f483de",
   "metadata": {},
   "source": [
    "## 1. Цель и задачи проекта"
   ]
  },
  {
   "cell_type": "markdown",
   "id": "201b6dca",
   "metadata": {},
   "source": [
    "У нас в распоряжении есть лог сервера с данными за год с июня 2017 по конец мая 2018 года: посещения сайта Яндекс.Афиши, выгрузка всех заказов за этот период, а также статистика рекламных расходов. Нам предстоит изучить, как люди пользуются продуктом, через какие каналы приходят, когда они начинают покупать, сколько денег приносит каждый клиент.\n",
    "Задачи:\n",
    "   - выяснить на какой источник было потрачено больше всего денег за год\n",
    "   - вычислить средний LTV пользователей, которые впервые пришли до декабря 2017 года\n",
    "   - найти какая кагорта (по месяцам первого посещения) принесла больше всего денег за полгода жизни\n",
    "   - определить целевую аудиторию\n",
    "   - сделать выводы и дать рекомендации"
   ]
  },
  {
   "cell_type": "markdown",
   "id": "0762399a",
   "metadata": {},
   "source": [
    "## 2. Загрузка данных, ознакомление с ними и предобработка"
   ]
  },
  {
   "cell_type": "markdown",
   "id": "10efdf5a",
   "metadata": {},
   "source": [
    "### 2.1 Подключение необходимых библиотек"
   ]
  },
  {
   "cell_type": "code",
   "execution_count": 41,
   "id": "61a12926",
   "metadata": {},
   "outputs": [],
   "source": [
    "import pandas as pd\n",
    "import matplotlib.pyplot as plt\n",
    "import numpy as np\n",
    "import seaborn as sns\n",
    "from datetime import datetime, timedelta\n",
    "\n",
    "from plotly.offline import init_notebook_mode, iplot\n",
    "import plotly\n",
    "import plotly.graph_objs as go"
   ]
  },
  {
   "cell_type": "markdown",
   "id": "2dfbb8b8",
   "metadata": {},
   "source": [
    "### 2.2 Получение данных таблицы посещений"
   ]
  },
  {
   "cell_type": "code",
   "execution_count": 42,
   "id": "15e06fbd",
   "metadata": {},
   "outputs": [],
   "source": [
    "way = 'C:\\\\Users\\\\Anore\\\\Project sprints\\\\drweb\\\\'"
   ]
  },
  {
   "cell_type": "code",
   "execution_count": 43,
   "id": "511dff2d",
   "metadata": {},
   "outputs": [
    {
     "data": {
      "text/html": [
       "<div>\n",
       "<style scoped>\n",
       "    .dataframe tbody tr th:only-of-type {\n",
       "        vertical-align: middle;\n",
       "    }\n",
       "\n",
       "    .dataframe tbody tr th {\n",
       "        vertical-align: top;\n",
       "    }\n",
       "\n",
       "    .dataframe thead th {\n",
       "        text-align: right;\n",
       "    }\n",
       "</style>\n",
       "<table border=\"1\" class=\"dataframe\">\n",
       "  <thead>\n",
       "    <tr style=\"text-align: right;\">\n",
       "      <th></th>\n",
       "      <th>Device</th>\n",
       "      <th>End Ts</th>\n",
       "      <th>Source Id</th>\n",
       "      <th>Start Ts</th>\n",
       "      <th>Uid</th>\n",
       "    </tr>\n",
       "  </thead>\n",
       "  <tbody>\n",
       "    <tr>\n",
       "      <th>0</th>\n",
       "      <td>touch</td>\n",
       "      <td>2017-12-20 17:38:00</td>\n",
       "      <td>4</td>\n",
       "      <td>2017-12-20 17:20:00</td>\n",
       "      <td>16879256277535980062</td>\n",
       "    </tr>\n",
       "    <tr>\n",
       "      <th>1</th>\n",
       "      <td>desktop</td>\n",
       "      <td>2018-02-19 17:21:00</td>\n",
       "      <td>2</td>\n",
       "      <td>2018-02-19 16:53:00</td>\n",
       "      <td>104060357244891740</td>\n",
       "    </tr>\n",
       "    <tr>\n",
       "      <th>2</th>\n",
       "      <td>touch</td>\n",
       "      <td>2017-07-01 01:54:00</td>\n",
       "      <td>5</td>\n",
       "      <td>2017-07-01 01:54:00</td>\n",
       "      <td>7459035603376831527</td>\n",
       "    </tr>\n",
       "    <tr>\n",
       "      <th>3</th>\n",
       "      <td>desktop</td>\n",
       "      <td>2018-05-20 11:23:00</td>\n",
       "      <td>9</td>\n",
       "      <td>2018-05-20 10:59:00</td>\n",
       "      <td>16174680259334210214</td>\n",
       "    </tr>\n",
       "    <tr>\n",
       "      <th>4</th>\n",
       "      <td>desktop</td>\n",
       "      <td>2017-12-27 14:06:00</td>\n",
       "      <td>3</td>\n",
       "      <td>2017-12-27 14:06:00</td>\n",
       "      <td>9969694820036681168</td>\n",
       "    </tr>\n",
       "    <tr>\n",
       "      <th>5</th>\n",
       "      <td>desktop</td>\n",
       "      <td>2017-09-03 21:36:00</td>\n",
       "      <td>5</td>\n",
       "      <td>2017-09-03 21:35:00</td>\n",
       "      <td>16007536194108375387</td>\n",
       "    </tr>\n",
       "    <tr>\n",
       "      <th>6</th>\n",
       "      <td>desktop</td>\n",
       "      <td>2018-01-30 12:09:00</td>\n",
       "      <td>1</td>\n",
       "      <td>2018-01-30 11:13:00</td>\n",
       "      <td>6661610529277171451</td>\n",
       "    </tr>\n",
       "    <tr>\n",
       "      <th>7</th>\n",
       "      <td>touch</td>\n",
       "      <td>2017-11-05 15:15:00</td>\n",
       "      <td>3</td>\n",
       "      <td>2017-11-05 15:14:00</td>\n",
       "      <td>11423865690854540312</td>\n",
       "    </tr>\n",
       "    <tr>\n",
       "      <th>8</th>\n",
       "      <td>desktop</td>\n",
       "      <td>2017-07-19 10:44:00</td>\n",
       "      <td>3</td>\n",
       "      <td>2017-07-19 10:41:00</td>\n",
       "      <td>2987360259350925644</td>\n",
       "    </tr>\n",
       "    <tr>\n",
       "      <th>9</th>\n",
       "      <td>desktop</td>\n",
       "      <td>2017-11-08 13:43:00</td>\n",
       "      <td>5</td>\n",
       "      <td>2017-11-08 13:42:00</td>\n",
       "      <td>1289240080042562063</td>\n",
       "    </tr>\n",
       "  </tbody>\n",
       "</table>\n",
       "</div>"
      ],
      "text/plain": [
       "    Device               End Ts  Source Id             Start Ts  \\\n",
       "0    touch  2017-12-20 17:38:00          4  2017-12-20 17:20:00   \n",
       "1  desktop  2018-02-19 17:21:00          2  2018-02-19 16:53:00   \n",
       "2    touch  2017-07-01 01:54:00          5  2017-07-01 01:54:00   \n",
       "3  desktop  2018-05-20 11:23:00          9  2018-05-20 10:59:00   \n",
       "4  desktop  2017-12-27 14:06:00          3  2017-12-27 14:06:00   \n",
       "5  desktop  2017-09-03 21:36:00          5  2017-09-03 21:35:00   \n",
       "6  desktop  2018-01-30 12:09:00          1  2018-01-30 11:13:00   \n",
       "7    touch  2017-11-05 15:15:00          3  2017-11-05 15:14:00   \n",
       "8  desktop  2017-07-19 10:44:00          3  2017-07-19 10:41:00   \n",
       "9  desktop  2017-11-08 13:43:00          5  2017-11-08 13:42:00   \n",
       "\n",
       "                    Uid  \n",
       "0  16879256277535980062  \n",
       "1    104060357244891740  \n",
       "2   7459035603376831527  \n",
       "3  16174680259334210214  \n",
       "4   9969694820036681168  \n",
       "5  16007536194108375387  \n",
       "6   6661610529277171451  \n",
       "7  11423865690854540312  \n",
       "8   2987360259350925644  \n",
       "9   1289240080042562063  "
      ]
     },
     "metadata": {},
     "output_type": "display_data"
    },
    {
     "name": "stdout",
     "output_type": "stream",
     "text": [
      "<class 'pandas.core.frame.DataFrame'>\n",
      "RangeIndex: 359400 entries, 0 to 359399\n",
      "Data columns (total 5 columns):\n",
      " #   Column     Non-Null Count   Dtype \n",
      "---  ------     --------------   ----- \n",
      " 0   Device     359400 non-null  object\n",
      " 1   End Ts     359400 non-null  object\n",
      " 2   Source Id  359400 non-null  int64 \n",
      " 3   Start Ts   359400 non-null  object\n",
      " 4   Uid        359400 non-null  uint64\n",
      "dtypes: int64(1), object(3), uint64(1)\n",
      "memory usage: 13.7+ MB\n"
     ]
    }
   ],
   "source": [
    "df_visits = pd.read_csv(way + 'visits_log.csv')\n",
    "display(df_visits.head(10))\n",
    "df_visits.info()"
   ]
  },
  {
   "cell_type": "markdown",
   "id": "9254623e",
   "metadata": {},
   "source": [
    "### 2.3 Предобработка (таблица посещений): проверка на наличие пропусков, дубликатов, переименрование столбцов, изменение типа данных"
   ]
  },
  {
   "cell_type": "code",
   "execution_count": 44,
   "id": "6cc15ef3",
   "metadata": {},
   "outputs": [
    {
     "data": {
      "text/plain": [
       "0"
      ]
     },
     "metadata": {},
     "output_type": "display_data"
    },
    {
     "data": {
      "text/plain": [
       "Device       0\n",
       "End Ts       0\n",
       "Source Id    0\n",
       "Start Ts     0\n",
       "Uid          0\n",
       "dtype: int64"
      ]
     },
     "metadata": {},
     "output_type": "display_data"
    }
   ],
   "source": [
    "# проверим наличие дубликатов и пропусков\n",
    "display(df_visits.duplicated().sum())\n",
    "display(df_visits.isna().sum())"
   ]
  },
  {
   "cell_type": "code",
   "execution_count": 45,
   "id": "bbccac2b",
   "metadata": {},
   "outputs": [
    {
     "data": {
      "text/html": [
       "<div>\n",
       "<style scoped>\n",
       "    .dataframe tbody tr th:only-of-type {\n",
       "        vertical-align: middle;\n",
       "    }\n",
       "\n",
       "    .dataframe tbody tr th {\n",
       "        vertical-align: top;\n",
       "    }\n",
       "\n",
       "    .dataframe thead th {\n",
       "        text-align: right;\n",
       "    }\n",
       "</style>\n",
       "<table border=\"1\" class=\"dataframe\">\n",
       "  <thead>\n",
       "    <tr style=\"text-align: right;\">\n",
       "      <th></th>\n",
       "      <th>device</th>\n",
       "      <th>end_ts</th>\n",
       "      <th>source_id</th>\n",
       "      <th>start_ts</th>\n",
       "      <th>uid</th>\n",
       "    </tr>\n",
       "  </thead>\n",
       "  <tbody>\n",
       "    <tr>\n",
       "      <th>0</th>\n",
       "      <td>touch</td>\n",
       "      <td>2017-12-20 17:38:00</td>\n",
       "      <td>4</td>\n",
       "      <td>2017-12-20 17:20:00</td>\n",
       "      <td>16879256277535980062</td>\n",
       "    </tr>\n",
       "    <tr>\n",
       "      <th>1</th>\n",
       "      <td>desktop</td>\n",
       "      <td>2018-02-19 17:21:00</td>\n",
       "      <td>2</td>\n",
       "      <td>2018-02-19 16:53:00</td>\n",
       "      <td>104060357244891740</td>\n",
       "    </tr>\n",
       "    <tr>\n",
       "      <th>2</th>\n",
       "      <td>touch</td>\n",
       "      <td>2017-07-01 01:54:00</td>\n",
       "      <td>5</td>\n",
       "      <td>2017-07-01 01:54:00</td>\n",
       "      <td>7459035603376831527</td>\n",
       "    </tr>\n",
       "    <tr>\n",
       "      <th>3</th>\n",
       "      <td>desktop</td>\n",
       "      <td>2018-05-20 11:23:00</td>\n",
       "      <td>9</td>\n",
       "      <td>2018-05-20 10:59:00</td>\n",
       "      <td>16174680259334210214</td>\n",
       "    </tr>\n",
       "    <tr>\n",
       "      <th>4</th>\n",
       "      <td>desktop</td>\n",
       "      <td>2017-12-27 14:06:00</td>\n",
       "      <td>3</td>\n",
       "      <td>2017-12-27 14:06:00</td>\n",
       "      <td>9969694820036681168</td>\n",
       "    </tr>\n",
       "  </tbody>\n",
       "</table>\n",
       "</div>"
      ],
      "text/plain": [
       "    device               end_ts  source_id             start_ts  \\\n",
       "0    touch  2017-12-20 17:38:00          4  2017-12-20 17:20:00   \n",
       "1  desktop  2018-02-19 17:21:00          2  2018-02-19 16:53:00   \n",
       "2    touch  2017-07-01 01:54:00          5  2017-07-01 01:54:00   \n",
       "3  desktop  2018-05-20 11:23:00          9  2018-05-20 10:59:00   \n",
       "4  desktop  2017-12-27 14:06:00          3  2017-12-27 14:06:00   \n",
       "\n",
       "                    uid  \n",
       "0  16879256277535980062  \n",
       "1    104060357244891740  \n",
       "2   7459035603376831527  \n",
       "3  16174680259334210214  \n",
       "4   9969694820036681168  "
      ]
     },
     "execution_count": 45,
     "metadata": {},
     "output_type": "execute_result"
    }
   ],
   "source": [
    "# приведение названий столбцов к корректному виду\n",
    "df_visits = df_visits.rename(columns = {\n",
    "    'Device': 'device',\n",
    "    'End Ts': 'end_ts',\n",
    "    'Source Id': 'source_id',\n",
    "    'Start Ts': 'start_ts',\n",
    "    'Uid': 'uid'\n",
    "})\n",
    "df_visits.head()"
   ]
  },
  {
   "cell_type": "code",
   "execution_count": 46,
   "id": "ddaf73ba",
   "metadata": {},
   "outputs": [
    {
     "name": "stdout",
     "output_type": "stream",
     "text": [
      "<class 'pandas.core.frame.DataFrame'>\n",
      "RangeIndex: 359400 entries, 0 to 359399\n",
      "Data columns (total 5 columns):\n",
      " #   Column     Non-Null Count   Dtype         \n",
      "---  ------     --------------   -----         \n",
      " 0   device     359400 non-null  object        \n",
      " 1   end_ts     359400 non-null  datetime64[ns]\n",
      " 2   source_id  359400 non-null  int64         \n",
      " 3   start_ts   359400 non-null  datetime64[ns]\n",
      " 4   uid        359400 non-null  uint64        \n",
      "dtypes: datetime64[ns](2), int64(1), object(1), uint64(1)\n",
      "memory usage: 13.7+ MB\n"
     ]
    }
   ],
   "source": [
    "# преобразование типов столбцов таблицы посещений к формату времени (datetime)\n",
    "df_visits['end_ts'] = pd.to_datetime(df_visits['end_ts'])\n",
    "df_visits['start_ts'] = pd.to_datetime(df_visits['start_ts'])\n",
    "df_visits.info()"
   ]
  },
  {
   "cell_type": "markdown",
   "id": "973af83d",
   "metadata": {},
   "source": [
    "### 2.4 Получение данных таблицы заказов"
   ]
  },
  {
   "cell_type": "code",
   "execution_count": 47,
   "id": "f782b87f",
   "metadata": {},
   "outputs": [
    {
     "data": {
      "text/html": [
       "<div>\n",
       "<style scoped>\n",
       "    .dataframe tbody tr th:only-of-type {\n",
       "        vertical-align: middle;\n",
       "    }\n",
       "\n",
       "    .dataframe tbody tr th {\n",
       "        vertical-align: top;\n",
       "    }\n",
       "\n",
       "    .dataframe thead th {\n",
       "        text-align: right;\n",
       "    }\n",
       "</style>\n",
       "<table border=\"1\" class=\"dataframe\">\n",
       "  <thead>\n",
       "    <tr style=\"text-align: right;\">\n",
       "      <th></th>\n",
       "      <th>Buy Ts</th>\n",
       "      <th>Revenue</th>\n",
       "      <th>Uid</th>\n",
       "    </tr>\n",
       "  </thead>\n",
       "  <tbody>\n",
       "    <tr>\n",
       "      <th>0</th>\n",
       "      <td>2017-06-01 00:10:00</td>\n",
       "      <td>17.00</td>\n",
       "      <td>10329302124590727494</td>\n",
       "    </tr>\n",
       "    <tr>\n",
       "      <th>1</th>\n",
       "      <td>2017-06-01 00:25:00</td>\n",
       "      <td>0.55</td>\n",
       "      <td>11627257723692907447</td>\n",
       "    </tr>\n",
       "    <tr>\n",
       "      <th>2</th>\n",
       "      <td>2017-06-01 00:27:00</td>\n",
       "      <td>0.37</td>\n",
       "      <td>17903680561304213844</td>\n",
       "    </tr>\n",
       "    <tr>\n",
       "      <th>3</th>\n",
       "      <td>2017-06-01 00:29:00</td>\n",
       "      <td>0.55</td>\n",
       "      <td>16109239769442553005</td>\n",
       "    </tr>\n",
       "    <tr>\n",
       "      <th>4</th>\n",
       "      <td>2017-06-01 07:58:00</td>\n",
       "      <td>0.37</td>\n",
       "      <td>14200605875248379450</td>\n",
       "    </tr>\n",
       "    <tr>\n",
       "      <th>5</th>\n",
       "      <td>2017-06-01 08:43:00</td>\n",
       "      <td>0.18</td>\n",
       "      <td>10402394430196413321</td>\n",
       "    </tr>\n",
       "    <tr>\n",
       "      <th>6</th>\n",
       "      <td>2017-06-01 08:54:00</td>\n",
       "      <td>1.83</td>\n",
       "      <td>12464626743129688638</td>\n",
       "    </tr>\n",
       "    <tr>\n",
       "      <th>7</th>\n",
       "      <td>2017-06-01 09:22:00</td>\n",
       "      <td>1.22</td>\n",
       "      <td>3644482766749211722</td>\n",
       "    </tr>\n",
       "    <tr>\n",
       "      <th>8</th>\n",
       "      <td>2017-06-01 09:22:00</td>\n",
       "      <td>3.30</td>\n",
       "      <td>17542070709969841479</td>\n",
       "    </tr>\n",
       "    <tr>\n",
       "      <th>9</th>\n",
       "      <td>2017-06-01 09:23:00</td>\n",
       "      <td>0.37</td>\n",
       "      <td>1074355127080856382</td>\n",
       "    </tr>\n",
       "  </tbody>\n",
       "</table>\n",
       "</div>"
      ],
      "text/plain": [
       "                Buy Ts  Revenue                   Uid\n",
       "0  2017-06-01 00:10:00    17.00  10329302124590727494\n",
       "1  2017-06-01 00:25:00     0.55  11627257723692907447\n",
       "2  2017-06-01 00:27:00     0.37  17903680561304213844\n",
       "3  2017-06-01 00:29:00     0.55  16109239769442553005\n",
       "4  2017-06-01 07:58:00     0.37  14200605875248379450\n",
       "5  2017-06-01 08:43:00     0.18  10402394430196413321\n",
       "6  2017-06-01 08:54:00     1.83  12464626743129688638\n",
       "7  2017-06-01 09:22:00     1.22   3644482766749211722\n",
       "8  2017-06-01 09:22:00     3.30  17542070709969841479\n",
       "9  2017-06-01 09:23:00     0.37   1074355127080856382"
      ]
     },
     "metadata": {},
     "output_type": "display_data"
    },
    {
     "name": "stdout",
     "output_type": "stream",
     "text": [
      "<class 'pandas.core.frame.DataFrame'>\n",
      "RangeIndex: 50415 entries, 0 to 50414\n",
      "Data columns (total 3 columns):\n",
      " #   Column   Non-Null Count  Dtype  \n",
      "---  ------   --------------  -----  \n",
      " 0   Buy Ts   50415 non-null  object \n",
      " 1   Revenue  50415 non-null  float64\n",
      " 2   Uid      50415 non-null  uint64 \n",
      "dtypes: float64(1), object(1), uint64(1)\n",
      "memory usage: 1.2+ MB\n"
     ]
    }
   ],
   "source": [
    "df_orders = pd.read_csv(way + 'orders_log.csv')\n",
    "display(df_orders.head(10))\n",
    "df_orders.info()"
   ]
  },
  {
   "cell_type": "markdown",
   "id": "393326c0",
   "metadata": {},
   "source": [
    "### 2.5 Предобработка (таблица заказов): проверка на наличие пропусков, дубликатов, переименрование столбцов, изменение типа данных"
   ]
  },
  {
   "cell_type": "code",
   "execution_count": 48,
   "id": "8281204d",
   "metadata": {},
   "outputs": [
    {
     "data": {
      "text/plain": [
       "0"
      ]
     },
     "metadata": {},
     "output_type": "display_data"
    },
    {
     "data": {
      "text/plain": [
       "Buy Ts     0\n",
       "Revenue    0\n",
       "Uid        0\n",
       "dtype: int64"
      ]
     },
     "metadata": {},
     "output_type": "display_data"
    }
   ],
   "source": [
    "# проверим наличие дубликатов и пропусков\n",
    "display(df_orders.duplicated().sum())\n",
    "display(df_orders.isna().sum())"
   ]
  },
  {
   "cell_type": "code",
   "execution_count": 49,
   "id": "7fb7bc10",
   "metadata": {},
   "outputs": [
    {
     "data": {
      "text/html": [
       "<div>\n",
       "<style scoped>\n",
       "    .dataframe tbody tr th:only-of-type {\n",
       "        vertical-align: middle;\n",
       "    }\n",
       "\n",
       "    .dataframe tbody tr th {\n",
       "        vertical-align: top;\n",
       "    }\n",
       "\n",
       "    .dataframe thead th {\n",
       "        text-align: right;\n",
       "    }\n",
       "</style>\n",
       "<table border=\"1\" class=\"dataframe\">\n",
       "  <thead>\n",
       "    <tr style=\"text-align: right;\">\n",
       "      <th></th>\n",
       "      <th>buy_ts</th>\n",
       "      <th>revenue</th>\n",
       "      <th>uid</th>\n",
       "    </tr>\n",
       "  </thead>\n",
       "  <tbody>\n",
       "    <tr>\n",
       "      <th>0</th>\n",
       "      <td>2017-06-01 00:10:00</td>\n",
       "      <td>17.00</td>\n",
       "      <td>10329302124590727494</td>\n",
       "    </tr>\n",
       "    <tr>\n",
       "      <th>1</th>\n",
       "      <td>2017-06-01 00:25:00</td>\n",
       "      <td>0.55</td>\n",
       "      <td>11627257723692907447</td>\n",
       "    </tr>\n",
       "    <tr>\n",
       "      <th>2</th>\n",
       "      <td>2017-06-01 00:27:00</td>\n",
       "      <td>0.37</td>\n",
       "      <td>17903680561304213844</td>\n",
       "    </tr>\n",
       "    <tr>\n",
       "      <th>3</th>\n",
       "      <td>2017-06-01 00:29:00</td>\n",
       "      <td>0.55</td>\n",
       "      <td>16109239769442553005</td>\n",
       "    </tr>\n",
       "    <tr>\n",
       "      <th>4</th>\n",
       "      <td>2017-06-01 07:58:00</td>\n",
       "      <td>0.37</td>\n",
       "      <td>14200605875248379450</td>\n",
       "    </tr>\n",
       "  </tbody>\n",
       "</table>\n",
       "</div>"
      ],
      "text/plain": [
       "                buy_ts  revenue                   uid\n",
       "0  2017-06-01 00:10:00    17.00  10329302124590727494\n",
       "1  2017-06-01 00:25:00     0.55  11627257723692907447\n",
       "2  2017-06-01 00:27:00     0.37  17903680561304213844\n",
       "3  2017-06-01 00:29:00     0.55  16109239769442553005\n",
       "4  2017-06-01 07:58:00     0.37  14200605875248379450"
      ]
     },
     "execution_count": 49,
     "metadata": {},
     "output_type": "execute_result"
    }
   ],
   "source": [
    "# приведение названий столбцов к корректному виду\n",
    "df_orders = df_orders.rename(columns = {\n",
    "    'Buy Ts': 'buy_ts',\n",
    "    'Revenue': 'revenue',\n",
    "    'Uid': 'uid'\n",
    "})\n",
    "df_orders.head()"
   ]
  },
  {
   "cell_type": "code",
   "execution_count": 50,
   "id": "b17d025d",
   "metadata": {},
   "outputs": [
    {
     "name": "stdout",
     "output_type": "stream",
     "text": [
      "<class 'pandas.core.frame.DataFrame'>\n",
      "RangeIndex: 50415 entries, 0 to 50414\n",
      "Data columns (total 3 columns):\n",
      " #   Column   Non-Null Count  Dtype         \n",
      "---  ------   --------------  -----         \n",
      " 0   buy_ts   50415 non-null  datetime64[ns]\n",
      " 1   revenue  50415 non-null  float64       \n",
      " 2   uid      50415 non-null  uint64        \n",
      "dtypes: datetime64[ns](1), float64(1), uint64(1)\n",
      "memory usage: 1.2 MB\n"
     ]
    }
   ],
   "source": [
    "# преобразование типов столбцов к формату времени (datetime)\n",
    "df_orders['buy_ts'] = pd.to_datetime(df_orders['buy_ts'])\n",
    "df_orders.info()"
   ]
  },
  {
   "cell_type": "markdown",
   "id": "7e2a2744",
   "metadata": {},
   "source": [
    "### 2.6 Получение данных таблицы расходов на рекламу"
   ]
  },
  {
   "cell_type": "code",
   "execution_count": 51,
   "id": "52cd2bbc",
   "metadata": {},
   "outputs": [
    {
     "data": {
      "text/html": [
       "<div>\n",
       "<style scoped>\n",
       "    .dataframe tbody tr th:only-of-type {\n",
       "        vertical-align: middle;\n",
       "    }\n",
       "\n",
       "    .dataframe tbody tr th {\n",
       "        vertical-align: top;\n",
       "    }\n",
       "\n",
       "    .dataframe thead th {\n",
       "        text-align: right;\n",
       "    }\n",
       "</style>\n",
       "<table border=\"1\" class=\"dataframe\">\n",
       "  <thead>\n",
       "    <tr style=\"text-align: right;\">\n",
       "      <th></th>\n",
       "      <th>source_id</th>\n",
       "      <th>dt</th>\n",
       "      <th>costs</th>\n",
       "    </tr>\n",
       "  </thead>\n",
       "  <tbody>\n",
       "    <tr>\n",
       "      <th>0</th>\n",
       "      <td>1</td>\n",
       "      <td>2017-06-01</td>\n",
       "      <td>75.20</td>\n",
       "    </tr>\n",
       "    <tr>\n",
       "      <th>1</th>\n",
       "      <td>1</td>\n",
       "      <td>2017-06-02</td>\n",
       "      <td>62.25</td>\n",
       "    </tr>\n",
       "    <tr>\n",
       "      <th>2</th>\n",
       "      <td>1</td>\n",
       "      <td>2017-06-03</td>\n",
       "      <td>36.53</td>\n",
       "    </tr>\n",
       "    <tr>\n",
       "      <th>3</th>\n",
       "      <td>1</td>\n",
       "      <td>2017-06-04</td>\n",
       "      <td>55.00</td>\n",
       "    </tr>\n",
       "    <tr>\n",
       "      <th>4</th>\n",
       "      <td>1</td>\n",
       "      <td>2017-06-05</td>\n",
       "      <td>57.08</td>\n",
       "    </tr>\n",
       "    <tr>\n",
       "      <th>5</th>\n",
       "      <td>1</td>\n",
       "      <td>2017-06-06</td>\n",
       "      <td>40.39</td>\n",
       "    </tr>\n",
       "    <tr>\n",
       "      <th>6</th>\n",
       "      <td>1</td>\n",
       "      <td>2017-06-07</td>\n",
       "      <td>40.59</td>\n",
       "    </tr>\n",
       "    <tr>\n",
       "      <th>7</th>\n",
       "      <td>1</td>\n",
       "      <td>2017-06-08</td>\n",
       "      <td>56.63</td>\n",
       "    </tr>\n",
       "    <tr>\n",
       "      <th>8</th>\n",
       "      <td>1</td>\n",
       "      <td>2017-06-09</td>\n",
       "      <td>40.16</td>\n",
       "    </tr>\n",
       "    <tr>\n",
       "      <th>9</th>\n",
       "      <td>1</td>\n",
       "      <td>2017-06-10</td>\n",
       "      <td>43.24</td>\n",
       "    </tr>\n",
       "  </tbody>\n",
       "</table>\n",
       "</div>"
      ],
      "text/plain": [
       "   source_id          dt  costs\n",
       "0          1  2017-06-01  75.20\n",
       "1          1  2017-06-02  62.25\n",
       "2          1  2017-06-03  36.53\n",
       "3          1  2017-06-04  55.00\n",
       "4          1  2017-06-05  57.08\n",
       "5          1  2017-06-06  40.39\n",
       "6          1  2017-06-07  40.59\n",
       "7          1  2017-06-08  56.63\n",
       "8          1  2017-06-09  40.16\n",
       "9          1  2017-06-10  43.24"
      ]
     },
     "metadata": {},
     "output_type": "display_data"
    },
    {
     "name": "stdout",
     "output_type": "stream",
     "text": [
      "<class 'pandas.core.frame.DataFrame'>\n",
      "RangeIndex: 2542 entries, 0 to 2541\n",
      "Data columns (total 3 columns):\n",
      " #   Column     Non-Null Count  Dtype  \n",
      "---  ------     --------------  -----  \n",
      " 0   source_id  2542 non-null   int64  \n",
      " 1   dt         2542 non-null   object \n",
      " 2   costs      2542 non-null   float64\n",
      "dtypes: float64(1), int64(1), object(1)\n",
      "memory usage: 59.7+ KB\n"
     ]
    }
   ],
   "source": [
    "df_costs = pd.read_csv(way + 'costs.csv')\n",
    "display(df_costs.head(10))\n",
    "df_costs.info()"
   ]
  },
  {
   "cell_type": "markdown",
   "id": "5c0109fc",
   "metadata": {},
   "source": [
    "### 2.7 Предобработка (таблица расходов на рекламу): проверка на наличие пропусков, дубликатов, изменение типа данных"
   ]
  },
  {
   "cell_type": "code",
   "execution_count": 52,
   "id": "36f7dc1b",
   "metadata": {},
   "outputs": [
    {
     "data": {
      "text/plain": [
       "0"
      ]
     },
     "metadata": {},
     "output_type": "display_data"
    },
    {
     "data": {
      "text/plain": [
       "source_id    0\n",
       "dt           0\n",
       "costs        0\n",
       "dtype: int64"
      ]
     },
     "metadata": {},
     "output_type": "display_data"
    }
   ],
   "source": [
    "# проверим наличие дубликатов и пропусков\n",
    "display(df_costs.duplicated().sum())\n",
    "display(df_costs.isna().sum())"
   ]
  },
  {
   "cell_type": "code",
   "execution_count": 53,
   "id": "c2166ce7",
   "metadata": {},
   "outputs": [
    {
     "name": "stdout",
     "output_type": "stream",
     "text": [
      "<class 'pandas.core.frame.DataFrame'>\n",
      "RangeIndex: 2542 entries, 0 to 2541\n",
      "Data columns (total 3 columns):\n",
      " #   Column     Non-Null Count  Dtype         \n",
      "---  ------     --------------  -----         \n",
      " 0   source_id  2542 non-null   int64         \n",
      " 1   dt         2542 non-null   datetime64[ns]\n",
      " 2   costs      2542 non-null   float64       \n",
      "dtypes: datetime64[ns](1), float64(1), int64(1)\n",
      "memory usage: 59.7 KB\n"
     ]
    }
   ],
   "source": [
    "# преобразование типов столбцов к формату времени (datetime)\n",
    "df_costs['dt'] = pd.to_datetime(df_costs['dt'])\n",
    "df_costs.info()"
   ]
  },
  {
   "cell_type": "markdown",
   "id": "cb6022ef",
   "metadata": {},
   "source": [
    "### 2.8 Вывод"
   ]
  },
  {
   "cell_type": "markdown",
   "id": "408bd531",
   "metadata": {},
   "source": [
    "Были получены данные трех таблиц. Пропусков и дубликатов не было обнаружено. Столбцы дат были преобразованы в соответствующий тип данных, а названия столбцов приведены к нижнему регистру \"змеиного\" типа."
   ]
  },
  {
   "cell_type": "markdown",
   "id": "f41094c2",
   "metadata": {},
   "source": [
    "## 3. Узнаем на какой источник было потрачено больше всего средств за год"
   ]
  },
  {
   "cell_type": "code",
   "execution_count": 54,
   "id": "eb815788",
   "metadata": {},
   "outputs": [
    {
     "data": {
      "text/html": [
       "<div>\n",
       "<style scoped>\n",
       "    .dataframe tbody tr th:only-of-type {\n",
       "        vertical-align: middle;\n",
       "    }\n",
       "\n",
       "    .dataframe tbody tr th {\n",
       "        vertical-align: top;\n",
       "    }\n",
       "\n",
       "    .dataframe thead th {\n",
       "        text-align: right;\n",
       "    }\n",
       "</style>\n",
       "<table border=\"1\" class=\"dataframe\">\n",
       "  <thead>\n",
       "    <tr style=\"text-align: right;\">\n",
       "      <th></th>\n",
       "      <th>source_id</th>\n",
       "      <th>costs</th>\n",
       "    </tr>\n",
       "  </thead>\n",
       "  <tbody>\n",
       "    <tr>\n",
       "      <th>0</th>\n",
       "      <td>3</td>\n",
       "      <td>141321.63</td>\n",
       "    </tr>\n",
       "    <tr>\n",
       "      <th>1</th>\n",
       "      <td>4</td>\n",
       "      <td>61073.60</td>\n",
       "    </tr>\n",
       "    <tr>\n",
       "      <th>2</th>\n",
       "      <td>5</td>\n",
       "      <td>51757.10</td>\n",
       "    </tr>\n",
       "    <tr>\n",
       "      <th>3</th>\n",
       "      <td>2</td>\n",
       "      <td>42806.04</td>\n",
       "    </tr>\n",
       "    <tr>\n",
       "      <th>4</th>\n",
       "      <td>1</td>\n",
       "      <td>20833.27</td>\n",
       "    </tr>\n",
       "    <tr>\n",
       "      <th>5</th>\n",
       "      <td>10</td>\n",
       "      <td>5822.49</td>\n",
       "    </tr>\n",
       "    <tr>\n",
       "      <th>6</th>\n",
       "      <td>9</td>\n",
       "      <td>5517.49</td>\n",
       "    </tr>\n",
       "  </tbody>\n",
       "</table>\n",
       "</div>"
      ],
      "text/plain": [
       "   source_id      costs\n",
       "0          3  141321.63\n",
       "1          4   61073.60\n",
       "2          5   51757.10\n",
       "3          2   42806.04\n",
       "4          1   20833.27\n",
       "5         10    5822.49\n",
       "6          9    5517.49"
      ]
     },
     "metadata": {},
     "output_type": "display_data"
    }
   ],
   "source": [
    "report_costs = df_costs.groupby('source_id').agg({'costs': 'sum'}).sort_values(by='costs', ascending=False).reset_index()\n",
    "display(report_costs)"
   ]
  },
  {
   "cell_type": "markdown",
   "id": "683bfea2",
   "metadata": {},
   "source": [
    "Больше всего средств было потрачено на 3-ий источник, почти в 2,5 раза больше чем на 4. На 9 и 10 источник потрачено примерно одинаковое количество средств и на порядок меньше чем на другие."
   ]
  },
  {
   "cell_type": "markdown",
   "id": "fab373c7",
   "metadata": {},
   "source": [
    "## 4. Зададим функции для расчета и анализа LTV"
   ]
  },
  {
   "cell_type": "markdown",
   "id": "6bdc9af0",
   "metadata": {},
   "source": [
    "### 4.1 Функция для создания пользовательских профилей"
   ]
  },
  {
   "cell_type": "markdown",
   "id": "be3f5d99",
   "metadata": {},
   "source": [
    "Функция профилей, связующее звено, необходимое для создания полей по которым происходит расчет последующих функций."
   ]
  },
  {
   "cell_type": "code",
   "execution_count": 55,
   "id": "75d2ab96",
   "metadata": {},
   "outputs": [],
   "source": [
    "def get_profiles(sessions, orders, ad_costs, event_names=[]):\n",
    "\n",
    "    # находим параметры первых посещений\n",
    "    profiles = (\n",
    "        sessions.sort_values(by=['uid', 'start_ts'])\n",
    "        .groupby('uid')\n",
    "        .agg(\n",
    "            {\n",
    "                'start_ts': 'first',\n",
    "                'source_id': 'first',\n",
    "                'device': 'first',\n",
    "            }\n",
    "        )\n",
    "        .rename(columns={'start_ts': 'first_ts'})\n",
    "        .reset_index()\n",
    "    )\n",
    "\n",
    "    # для когортного анализа определяем дату первого посещения\n",
    "    # и первый день месяца, в который это посещение произошло\n",
    "    profiles['dt'] = profiles['first_ts'].dt.date\n",
    "    profiles['month'] = profiles['first_ts'].astype('datetime64[M]')\n",
    "\n",
    "    # добавляем признак платящих пользователей\n",
    "    profiles['payer'] = profiles['uid'].isin(orders['uid'].unique())\n",
    "\n",
    "    return profiles"
   ]
  },
  {
   "cell_type": "markdown",
   "id": "417ef64f",
   "metadata": {},
   "source": [
    "### 4.2 Получим таблицу профилей, вызвав функцию get_profiles"
   ]
  },
  {
   "cell_type": "markdown",
   "id": "c042567c",
   "metadata": {},
   "source": [
    "Для этого передадим три исходных датафрейма о посещениях, покупках и тратах на рекламу."
   ]
  },
  {
   "cell_type": "code",
   "execution_count": 56,
   "id": "2888f04b",
   "metadata": {},
   "outputs": [
    {
     "data": {
      "text/html": [
       "<div>\n",
       "<style scoped>\n",
       "    .dataframe tbody tr th:only-of-type {\n",
       "        vertical-align: middle;\n",
       "    }\n",
       "\n",
       "    .dataframe tbody tr th {\n",
       "        vertical-align: top;\n",
       "    }\n",
       "\n",
       "    .dataframe thead th {\n",
       "        text-align: right;\n",
       "    }\n",
       "</style>\n",
       "<table border=\"1\" class=\"dataframe\">\n",
       "  <thead>\n",
       "    <tr style=\"text-align: right;\">\n",
       "      <th></th>\n",
       "      <th>uid</th>\n",
       "      <th>first_ts</th>\n",
       "      <th>source_id</th>\n",
       "      <th>device</th>\n",
       "      <th>dt</th>\n",
       "      <th>month</th>\n",
       "      <th>payer</th>\n",
       "    </tr>\n",
       "  </thead>\n",
       "  <tbody>\n",
       "    <tr>\n",
       "      <th>0</th>\n",
       "      <td>11863502262781</td>\n",
       "      <td>2018-03-01 17:27:00</td>\n",
       "      <td>3</td>\n",
       "      <td>touch</td>\n",
       "      <td>2018-03-01</td>\n",
       "      <td>2018-03-01</td>\n",
       "      <td>False</td>\n",
       "    </tr>\n",
       "    <tr>\n",
       "      <th>1</th>\n",
       "      <td>49537067089222</td>\n",
       "      <td>2018-02-06 15:55:00</td>\n",
       "      <td>2</td>\n",
       "      <td>touch</td>\n",
       "      <td>2018-02-06</td>\n",
       "      <td>2018-02-01</td>\n",
       "      <td>False</td>\n",
       "    </tr>\n",
       "    <tr>\n",
       "      <th>2</th>\n",
       "      <td>297729379853735</td>\n",
       "      <td>2017-06-07 18:47:00</td>\n",
       "      <td>3</td>\n",
       "      <td>desktop</td>\n",
       "      <td>2017-06-07</td>\n",
       "      <td>2017-06-01</td>\n",
       "      <td>False</td>\n",
       "    </tr>\n",
       "    <tr>\n",
       "      <th>3</th>\n",
       "      <td>313578113262317</td>\n",
       "      <td>2017-09-18 22:49:00</td>\n",
       "      <td>2</td>\n",
       "      <td>desktop</td>\n",
       "      <td>2017-09-18</td>\n",
       "      <td>2017-09-01</td>\n",
       "      <td>True</td>\n",
       "    </tr>\n",
       "    <tr>\n",
       "      <th>4</th>\n",
       "      <td>325320750514679</td>\n",
       "      <td>2017-09-30 14:29:00</td>\n",
       "      <td>5</td>\n",
       "      <td>desktop</td>\n",
       "      <td>2017-09-30</td>\n",
       "      <td>2017-09-01</td>\n",
       "      <td>False</td>\n",
       "    </tr>\n",
       "  </tbody>\n",
       "</table>\n",
       "</div>"
      ],
      "text/plain": [
       "               uid            first_ts  source_id   device          dt  \\\n",
       "0   11863502262781 2018-03-01 17:27:00          3    touch  2018-03-01   \n",
       "1   49537067089222 2018-02-06 15:55:00          2    touch  2018-02-06   \n",
       "2  297729379853735 2017-06-07 18:47:00          3  desktop  2017-06-07   \n",
       "3  313578113262317 2017-09-18 22:49:00          2  desktop  2017-09-18   \n",
       "4  325320750514679 2017-09-30 14:29:00          5  desktop  2017-09-30   \n",
       "\n",
       "       month  payer  \n",
       "0 2018-03-01  False  \n",
       "1 2018-02-01  False  \n",
       "2 2017-06-01  False  \n",
       "3 2017-09-01   True  \n",
       "4 2017-09-01  False  "
      ]
     },
     "metadata": {},
     "output_type": "display_data"
    },
    {
     "name": "stdout",
     "output_type": "stream",
     "text": [
      "<class 'pandas.core.frame.DataFrame'>\n",
      "RangeIndex: 228169 entries, 0 to 228168\n",
      "Data columns (total 7 columns):\n",
      " #   Column     Non-Null Count   Dtype         \n",
      "---  ------     --------------   -----         \n",
      " 0   uid        228169 non-null  uint64        \n",
      " 1   first_ts   228169 non-null  datetime64[ns]\n",
      " 2   source_id  228169 non-null  int64         \n",
      " 3   device     228169 non-null  object        \n",
      " 4   dt         228169 non-null  object        \n",
      " 5   month      228169 non-null  datetime64[ns]\n",
      " 6   payer      228169 non-null  bool          \n",
      "dtypes: bool(1), datetime64[ns](2), int64(1), object(2), uint64(1)\n",
      "memory usage: 10.7+ MB\n"
     ]
    },
    {
     "data": {
      "text/plain": [
       "uid          0\n",
       "first_ts     0\n",
       "source_id    0\n",
       "device       0\n",
       "dt           0\n",
       "month        0\n",
       "payer        0\n",
       "dtype: int64"
      ]
     },
     "metadata": {},
     "output_type": "display_data"
    }
   ],
   "source": [
    "profiles = get_profiles(df_visits, df_orders, df_costs)\n",
    "display(profiles.head())\n",
    "profiles.info()\n",
    "display(profiles.isna().sum())"
   ]
  },
  {
   "cell_type": "markdown",
   "id": "91eb382e",
   "metadata": {},
   "source": [
    "### 4.3 Напишем функцию для расчета LTV"
   ]
  },
  {
   "cell_type": "code",
   "execution_count": 57,
   "id": "265dafcf",
   "metadata": {},
   "outputs": [],
   "source": [
    "def get_ltv(\n",
    "    profiles,\n",
    "    orders,\n",
    "    observation_date,\n",
    "    horizon_days,\n",
    "    dimensions=[],\n",
    "    ignore_horizon=False,\n",
    "):\n",
    "\n",
    "    # исключаем пользователей, не «доживших» до горизонта анализа\n",
    "    last_suitable_acquisition_date = observation_date\n",
    "    if not ignore_horizon:\n",
    "        last_suitable_acquisition_date = observation_date - timedelta(\n",
    "            days=horizon_days - 1\n",
    "        )\n",
    "    result_raw = profiles.query('dt <= @last_suitable_acquisition_date')\n",
    "    \n",
    "    # добавляем данные о выручке в профили\n",
    "    result_raw = profiles.merge(\n",
    "        orders[['uid', 'buy_ts', 'revenue']],\n",
    "        on='uid',\n",
    "        how='left',\n",
    "    )\n",
    "\n",
    "    # вычисляем лайфтайм для каждой покупки\n",
    "    result_raw['lifetime'] = (\n",
    "        result_raw['buy_ts'] - result_raw['first_ts']\n",
    "    ).dt.days\n",
    "\n",
    "    # группируем по cohort, если в dimensions ничего нет\n",
    "    if len(dimensions) == 0:\n",
    "        result_raw['cohort'] = 'All users'\n",
    "        dimensions = dimensions + ['cohort']\n",
    "\n",
    "    def group_by_dimensions(df, dims, horizon_days):\n",
    "        # строим «треугольную» таблицу выручки\n",
    "        result = df.pivot_table(\n",
    "            index=dims,\n",
    "            columns='lifetime',\n",
    "            values='revenue',\n",
    "            aggfunc='sum',\n",
    "        )\n",
    "        # считаем сумму выручки с накоплением\n",
    "        result = result.fillna(0).cumsum(axis=1)\n",
    "        # вычисляем размеры когорт\n",
    "        cohort_sizes = (\n",
    "            df.groupby(dims)\n",
    "            .agg({'uid': 'nunique'})\n",
    "            .rename(columns={'uid': 'cohort_size'})\n",
    "        )\n",
    "        # объединяем размеры когорт и таблицу выручки\n",
    "        result = cohort_sizes.merge(result, on=dims, how='left').fillna(0)\n",
    "        # считаем LTV:\n",
    "        # делим каждую «ячейку» в строке на размер когорты\n",
    "        result = result.div(result['cohort_size'], axis=0)\n",
    "        # исключаем все лайфтаймы, превышающие горизонт анализа\n",
    "        result = result[['cohort_size'] + list(range(horizon_days))]\n",
    "        # восстанавливаем размеры когорт\n",
    "        result['cohort_size'] = cohort_sizes\n",
    "        return result\n",
    "\n",
    "    # получаем таблицу LTV\n",
    "    result_grouped = group_by_dimensions(result_raw, dimensions,  horizon_days)\n",
    "\n",
    "    # для таблицы динамики конверсии убираем 'cohort' из dimensions\n",
    "    if 'cohort' in dimensions:\n",
    "        dimensions = []\n",
    "    # получаем таблицу динамики LTV\n",
    "    result_in_time = group_by_dimensions(\n",
    "        result_raw, dimensions + ['dt'], horizon_days\n",
    "    )\n",
    "\n",
    "    # возвращаем обе таблицы LTV и сырые данные\n",
    "    return result_raw, result_grouped, result_in_time"
   ]
  },
  {
   "cell_type": "markdown",
   "id": "718134eb",
   "metadata": {},
   "source": [
    "## 5. Исследовательский анализ"
   ]
  },
  {
   "cell_type": "markdown",
   "id": "dfea8103",
   "metadata": {},
   "source": [
    "### 5.1 Выясним на какой источник приходится больше всего платящих пользователей"
   ]
  },
  {
   "cell_type": "code",
   "execution_count": 58,
   "id": "59801678",
   "metadata": {},
   "outputs": [
    {
     "data": {
      "text/html": [
       "<div>\n",
       "<style scoped>\n",
       "    .dataframe tbody tr th:only-of-type {\n",
       "        vertical-align: middle;\n",
       "    }\n",
       "\n",
       "    .dataframe tbody tr th {\n",
       "        vertical-align: top;\n",
       "    }\n",
       "\n",
       "    .dataframe thead th {\n",
       "        text-align: right;\n",
       "    }\n",
       "</style>\n",
       "<table border=\"1\" class=\"dataframe\">\n",
       "  <thead>\n",
       "    <tr style=\"text-align: right;\">\n",
       "      <th></th>\n",
       "      <th>source_id</th>\n",
       "      <th>количество пользователей</th>\n",
       "      <th>количество платящих пользователей</th>\n",
       "      <th>доля платящих%</th>\n",
       "    </tr>\n",
       "  </thead>\n",
       "  <tbody>\n",
       "    <tr>\n",
       "      <th>0</th>\n",
       "      <td>4</td>\n",
       "      <td>72346</td>\n",
       "      <td>10296</td>\n",
       "      <td>14.23</td>\n",
       "    </tr>\n",
       "    <tr>\n",
       "      <th>1</th>\n",
       "      <td>3</td>\n",
       "      <td>66116</td>\n",
       "      <td>10473</td>\n",
       "      <td>15.84</td>\n",
       "    </tr>\n",
       "    <tr>\n",
       "      <th>2</th>\n",
       "      <td>5</td>\n",
       "      <td>49237</td>\n",
       "      <td>6931</td>\n",
       "      <td>14.08</td>\n",
       "    </tr>\n",
       "    <tr>\n",
       "      <th>3</th>\n",
       "      <td>2</td>\n",
       "      <td>17616</td>\n",
       "      <td>3506</td>\n",
       "      <td>19.90</td>\n",
       "    </tr>\n",
       "    <tr>\n",
       "      <th>4</th>\n",
       "      <td>1</td>\n",
       "      <td>9469</td>\n",
       "      <td>2899</td>\n",
       "      <td>30.62</td>\n",
       "    </tr>\n",
       "    <tr>\n",
       "      <th>5</th>\n",
       "      <td>10</td>\n",
       "      <td>6903</td>\n",
       "      <td>1329</td>\n",
       "      <td>19.25</td>\n",
       "    </tr>\n",
       "    <tr>\n",
       "      <th>6</th>\n",
       "      <td>9</td>\n",
       "      <td>6448</td>\n",
       "      <td>1088</td>\n",
       "      <td>16.87</td>\n",
       "    </tr>\n",
       "    <tr>\n",
       "      <th>7</th>\n",
       "      <td>7</td>\n",
       "      <td>32</td>\n",
       "      <td>1</td>\n",
       "      <td>3.12</td>\n",
       "    </tr>\n",
       "    <tr>\n",
       "      <th>8</th>\n",
       "      <td>6</td>\n",
       "      <td>2</td>\n",
       "      <td>0</td>\n",
       "      <td>0.00</td>\n",
       "    </tr>\n",
       "  </tbody>\n",
       "</table>\n",
       "</div>"
      ],
      "text/plain": [
       "   source_id  количество пользователей  количество платящих пользователей  \\\n",
       "0          4                     72346                              10296   \n",
       "1          3                     66116                              10473   \n",
       "2          5                     49237                               6931   \n",
       "3          2                     17616                               3506   \n",
       "4          1                      9469                               2899   \n",
       "5         10                      6903                               1329   \n",
       "6          9                      6448                               1088   \n",
       "7          7                        32                                  1   \n",
       "8          6                         2                                  0   \n",
       "\n",
       "   доля платящих%  \n",
       "0           14.23  \n",
       "1           15.84  \n",
       "2           14.08  \n",
       "3           19.90  \n",
       "4           30.62  \n",
       "5           19.25  \n",
       "6           16.87  \n",
       "7            3.12  \n",
       "8            0.00  "
      ]
     },
     "metadata": {},
     "output_type": "display_data"
    }
   ],
   "source": [
    "report_source = profiles.groupby('source_id').agg({'uid': 'nunique', 'payer': 'sum'}).sort_values(by='uid', ascending=False).reset_index()\n",
    "report_source['доля платящих%'] = round(report_source['payer'] / report_source['uid'] * 100, 2)\n",
    "report_source = report_source.rename(columns={\n",
    "    'uid': 'количество пользователей',\n",
    "    'payer': 'количество платящих пользователей'\n",
    "})\n",
    "display(report_source.head(10))"
   ]
  },
  {
   "cell_type": "markdown",
   "id": "c9df33f0",
   "metadata": {},
   "source": [
    "Больше всего пользователей приходят из третьего источника, однако конверсия в платящих ниже чем у других. Самое высокое суммарное количество покупателей так же у третьего источника."
   ]
  },
  {
   "cell_type": "code",
   "execution_count": 59,
   "id": "4a05d863",
   "metadata": {},
   "outputs": [
    {
     "data": {
      "image/png": "[encoded data removed]",
      "text/plain": [
       "<Figure size 1080x720 with 1 Axes>"
      ]
     },
     "metadata": {
      "needs_background": "light"
     },
     "output_type": "display_data"
    }
   ],
   "source": [
    "# используем столбчатую гистограмму библиотеки seaborn\n",
    "plt.figure(figsize=(15,10))\n",
    "ax = sns.barplot(x=report_source['source_id'], y=report_source['доля платящих%'])\n",
    "sns.set_palette('dark')\n",
    "ax.set_title('Распределение доли платящих пользователей по типу источника', fontdict={'fontsize':18}, pad=12)\n",
    "plt.show()"
   ]
  },
  {
   "cell_type": "markdown",
   "id": "3321bc55",
   "metadata": {},
   "source": [
    "Больше всего платящих пользователей приходят из первого источника. Источники номер 6 и 7 не получали бюджета, отсюда такие низкие показатели. "
   ]
  },
  {
   "cell_type": "markdown",
   "id": "960b3ea9",
   "metadata": {},
   "source": [
    "### 5.2 Определим с какого устройства приходит больше всего платящих пользователей"
   ]
  },
  {
   "cell_type": "code",
   "execution_count": 60,
   "id": "717afb81",
   "metadata": {},
   "outputs": [
    {
     "data": {
      "text/html": [
       "<div>\n",
       "<style scoped>\n",
       "    .dataframe tbody tr th:only-of-type {\n",
       "        vertical-align: middle;\n",
       "    }\n",
       "\n",
       "    .dataframe tbody tr th {\n",
       "        vertical-align: top;\n",
       "    }\n",
       "\n",
       "    .dataframe thead th {\n",
       "        text-align: right;\n",
       "    }\n",
       "</style>\n",
       "<table border=\"1\" class=\"dataframe\">\n",
       "  <thead>\n",
       "    <tr style=\"text-align: right;\">\n",
       "      <th></th>\n",
       "      <th>device</th>\n",
       "      <th>количество пользователей</th>\n",
       "      <th>количество платящих пользователей</th>\n",
       "      <th>Доля платящих%</th>\n",
       "    </tr>\n",
       "  </thead>\n",
       "  <tbody>\n",
       "    <tr>\n",
       "      <th>0</th>\n",
       "      <td>desktop</td>\n",
       "      <td>160795</td>\n",
       "      <td>29211</td>\n",
       "      <td>18.17</td>\n",
       "    </tr>\n",
       "    <tr>\n",
       "      <th>1</th>\n",
       "      <td>touch</td>\n",
       "      <td>67374</td>\n",
       "      <td>7312</td>\n",
       "      <td>10.85</td>\n",
       "    </tr>\n",
       "  </tbody>\n",
       "</table>\n",
       "</div>"
      ],
      "text/plain": [
       "    device  количество пользователей  количество платящих пользователей  \\\n",
       "0  desktop                    160795                              29211   \n",
       "1    touch                     67374                               7312   \n",
       "\n",
       "   Доля платящих%  \n",
       "0           18.17  \n",
       "1           10.85  "
      ]
     },
     "metadata": {},
     "output_type": "display_data"
    }
   ],
   "source": [
    "report_device = profiles.groupby('device').agg({'uid': 'nunique', 'payer': 'sum'}).sort_values(by='uid', ascending=False).reset_index()\n",
    "report_device['Доля платящих%'] = round(report_device['payer'] / report_device['uid'] * 100, 2)\n",
    "report_device = report_device.rename(columns={\n",
    "    'uid': 'количество пользователей',\n",
    "    'payer': 'количество платящих пользователей'\n",
    "})\n",
    "display(report_device.head())"
   ]
  },
  {
   "cell_type": "code",
   "execution_count": 61,
   "id": "829b4c56",
   "metadata": {},
   "outputs": [
    {
     "data": {
      "image/png": "[encoded data removed]",
      "text/plain": [
       "<Figure size 1080x720 with 1 Axes>"
      ]
     },
     "metadata": {
      "needs_background": "light"
     },
     "output_type": "display_data"
    }
   ],
   "source": [
    "# используем столбчатую гистограмму библиотеки seaborn\n",
    "plt.figure(figsize=(15,10))\n",
    "ax = sns.barplot(x=report_device['device'], y=report_device['Доля платящих%'])\n",
    "sns.set_palette('dark')\n",
    "ax.set_title('Распределение доли платящих пользователей по типу устройства', fontdict={'fontsize':18}, pad=12)\n",
    "plt.show()"
   ]
  },
  {
   "cell_type": "markdown",
   "id": "7346cc90",
   "metadata": {},
   "source": [
    "Через компьютер приходит значительно больше пользователей примерно в 2.5 раза. Общее количество покупателей и их доля так же выше в сравнении с теми кто пользуется мобильным приложением."
   ]
  },
  {
   "cell_type": "markdown",
   "id": "33bfd9b6",
   "metadata": {},
   "source": [
    "## 6. Найдем средний LTV пользователей, которые впервые пришли до декабря 2017 года"
   ]
  },
  {
   "cell_type": "markdown",
   "id": "0e309f16",
   "metadata": {},
   "source": [
    "### 6.1 Получение среза датафрейма в соответствии с датой"
   ]
  },
  {
   "cell_type": "markdown",
   "id": "62bd670a",
   "metadata": {},
   "source": [
    "Нас интересуют только те пользователи, чей первый приход был до декабря 2017г. Уберем данные из таблицы профилей пользователей начиная с 1 декабря 2017 года."
   ]
  },
  {
   "cell_type": "code",
   "execution_count": 62,
   "id": "3d1147c1",
   "metadata": {
    "scrolled": false
   },
   "outputs": [
    {
     "data": {
      "text/plain": [
       "array(['2017-06-01T00:00:00.000000000', '2017-09-01T00:00:00.000000000',\n",
       "       '2017-10-01T00:00:00.000000000', '2017-11-01T00:00:00.000000000',\n",
       "       '2017-07-01T00:00:00.000000000', '2017-08-01T00:00:00.000000000'],\n",
       "      dtype='datetime64[ns]')"
      ]
     },
     "metadata": {},
     "output_type": "display_data"
    },
    {
     "name": "stdout",
     "output_type": "stream",
     "text": [
      "<class 'pandas.core.frame.DataFrame'>\n",
      "Int64Index: 106509 entries, 2 to 228168\n",
      "Data columns (total 7 columns):\n",
      " #   Column     Non-Null Count   Dtype         \n",
      "---  ------     --------------   -----         \n",
      " 0   uid        106509 non-null  uint64        \n",
      " 1   first_ts   106509 non-null  datetime64[ns]\n",
      " 2   source_id  106509 non-null  int64         \n",
      " 3   device     106509 non-null  object        \n",
      " 4   dt         106509 non-null  object        \n",
      " 5   month      106509 non-null  datetime64[ns]\n",
      " 6   payer      106509 non-null  bool          \n",
      "dtypes: bool(1), datetime64[ns](2), int64(1), object(2), uint64(1)\n",
      "memory usage: 5.8+ MB\n"
     ]
    }
   ],
   "source": [
    "profiles = profiles.loc[(profiles['month'] < '2017-12-01')]\n",
    "display(profiles['month'].unique())\n",
    "profiles.info()"
   ]
  },
  {
   "cell_type": "markdown",
   "id": "9c8d010d",
   "metadata": {},
   "source": [
    "### 6.2 Вызовем функцию get_ltv "
   ]
  },
  {
   "cell_type": "markdown",
   "id": "15dfb27a",
   "metadata": {},
   "source": [
    "Получим таблицу сырых данных, таблицу ltv по всем пользователям и интересующую нас сводную таблицу динамики ltv_history, где строки это дата первого прихода пользователя, а столбцы это лайфтайм с уже посчитанным показателем LTV."
   ]
  },
  {
   "cell_type": "code",
   "execution_count": 63,
   "id": "c8062339",
   "metadata": {
    "scrolled": false
   },
   "outputs": [
    {
     "data": {
      "text/html": [
       "<div>\n",
       "<style scoped>\n",
       "    .dataframe tbody tr th:only-of-type {\n",
       "        vertical-align: middle;\n",
       "    }\n",
       "\n",
       "    .dataframe tbody tr th {\n",
       "        vertical-align: top;\n",
       "    }\n",
       "\n",
       "    .dataframe thead th {\n",
       "        text-align: right;\n",
       "    }\n",
       "</style>\n",
       "<table border=\"1\" class=\"dataframe\">\n",
       "  <thead>\n",
       "    <tr style=\"text-align: right;\">\n",
       "      <th></th>\n",
       "      <th>dt</th>\n",
       "      <th>cohort_size</th>\n",
       "      <th>0.0</th>\n",
       "      <th>1.0</th>\n",
       "      <th>2.0</th>\n",
       "      <th>3.0</th>\n",
       "      <th>4.0</th>\n",
       "      <th>5.0</th>\n",
       "      <th>6.0</th>\n",
       "      <th>7.0</th>\n",
       "      <th>...</th>\n",
       "      <th>173.0</th>\n",
       "      <th>174.0</th>\n",
       "      <th>175.0</th>\n",
       "      <th>176.0</th>\n",
       "      <th>177.0</th>\n",
       "      <th>178.0</th>\n",
       "      <th>179.0</th>\n",
       "      <th>180.0</th>\n",
       "      <th>181.0</th>\n",
       "      <th>182.0</th>\n",
       "    </tr>\n",
       "  </thead>\n",
       "  <tbody>\n",
       "    <tr>\n",
       "      <th>0</th>\n",
       "      <td>2017-11-26</td>\n",
       "      <td>872</td>\n",
       "      <td>0.349151</td>\n",
       "      <td>0.358073</td>\n",
       "      <td>0.403337</td>\n",
       "      <td>0.403337</td>\n",
       "      <td>0.408349</td>\n",
       "      <td>0.411433</td>\n",
       "      <td>0.412511</td>\n",
       "      <td>0.412787</td>\n",
       "      <td>...</td>\n",
       "      <td>0.604037</td>\n",
       "      <td>0.604381</td>\n",
       "      <td>0.604381</td>\n",
       "      <td>0.604381</td>\n",
       "      <td>0.604381</td>\n",
       "      <td>0.604381</td>\n",
       "      <td>0.604381</td>\n",
       "      <td>0.604381</td>\n",
       "      <td>0.604381</td>\n",
       "      <td>0.604381</td>\n",
       "    </tr>\n",
       "    <tr>\n",
       "      <th>1</th>\n",
       "      <td>2017-11-27</td>\n",
       "      <td>1003</td>\n",
       "      <td>0.360937</td>\n",
       "      <td>0.375095</td>\n",
       "      <td>0.388365</td>\n",
       "      <td>0.409701</td>\n",
       "      <td>0.420608</td>\n",
       "      <td>0.423041</td>\n",
       "      <td>0.438584</td>\n",
       "      <td>0.473450</td>\n",
       "      <td>...</td>\n",
       "      <td>0.985274</td>\n",
       "      <td>0.996241</td>\n",
       "      <td>1.008425</td>\n",
       "      <td>1.008425</td>\n",
       "      <td>1.008425</td>\n",
       "      <td>1.008425</td>\n",
       "      <td>1.008425</td>\n",
       "      <td>1.008425</td>\n",
       "      <td>1.008425</td>\n",
       "      <td>1.008425</td>\n",
       "    </tr>\n",
       "    <tr>\n",
       "      <th>2</th>\n",
       "      <td>2017-11-28</td>\n",
       "      <td>925</td>\n",
       "      <td>0.421903</td>\n",
       "      <td>0.437211</td>\n",
       "      <td>0.542497</td>\n",
       "      <td>0.563686</td>\n",
       "      <td>0.568681</td>\n",
       "      <td>0.585059</td>\n",
       "      <td>0.603622</td>\n",
       "      <td>0.613535</td>\n",
       "      <td>...</td>\n",
       "      <td>1.453027</td>\n",
       "      <td>1.453027</td>\n",
       "      <td>1.461611</td>\n",
       "      <td>1.461611</td>\n",
       "      <td>1.461611</td>\n",
       "      <td>1.461611</td>\n",
       "      <td>1.461611</td>\n",
       "      <td>1.461611</td>\n",
       "      <td>1.461611</td>\n",
       "      <td>1.461611</td>\n",
       "    </tr>\n",
       "    <tr>\n",
       "      <th>3</th>\n",
       "      <td>2017-11-29</td>\n",
       "      <td>811</td>\n",
       "      <td>0.338977</td>\n",
       "      <td>0.368705</td>\n",
       "      <td>0.420986</td>\n",
       "      <td>0.420986</td>\n",
       "      <td>0.435746</td>\n",
       "      <td>0.447423</td>\n",
       "      <td>0.484723</td>\n",
       "      <td>0.493379</td>\n",
       "      <td>...</td>\n",
       "      <td>0.634710</td>\n",
       "      <td>0.634710</td>\n",
       "      <td>0.634710</td>\n",
       "      <td>0.634710</td>\n",
       "      <td>0.634710</td>\n",
       "      <td>0.634710</td>\n",
       "      <td>0.634710</td>\n",
       "      <td>0.634710</td>\n",
       "      <td>0.635758</td>\n",
       "      <td>0.635758</td>\n",
       "    </tr>\n",
       "    <tr>\n",
       "      <th>4</th>\n",
       "      <td>2017-11-30</td>\n",
       "      <td>863</td>\n",
       "      <td>0.367636</td>\n",
       "      <td>0.431981</td>\n",
       "      <td>0.437636</td>\n",
       "      <td>0.445145</td>\n",
       "      <td>0.455191</td>\n",
       "      <td>0.462445</td>\n",
       "      <td>0.465632</td>\n",
       "      <td>0.477520</td>\n",
       "      <td>...</td>\n",
       "      <td>1.577995</td>\n",
       "      <td>1.581251</td>\n",
       "      <td>1.594705</td>\n",
       "      <td>1.594705</td>\n",
       "      <td>1.594705</td>\n",
       "      <td>1.599664</td>\n",
       "      <td>1.599664</td>\n",
       "      <td>1.603198</td>\n",
       "      <td>1.611692</td>\n",
       "      <td>1.612399</td>\n",
       "    </tr>\n",
       "  </tbody>\n",
       "</table>\n",
       "<p>5 rows × 185 columns</p>\n",
       "</div>"
      ],
      "text/plain": [
       "           dt  cohort_size       0.0       1.0       2.0       3.0       4.0  \\\n",
       "0  2017-11-26          872  0.349151  0.358073  0.403337  0.403337  0.408349   \n",
       "1  2017-11-27         1003  0.360937  0.375095  0.388365  0.409701  0.420608   \n",
       "2  2017-11-28          925  0.421903  0.437211  0.542497  0.563686  0.568681   \n",
       "3  2017-11-29          811  0.338977  0.368705  0.420986  0.420986  0.435746   \n",
       "4  2017-11-30          863  0.367636  0.431981  0.437636  0.445145  0.455191   \n",
       "\n",
       "        5.0       6.0       7.0  ...     173.0     174.0     175.0     176.0  \\\n",
       "0  0.411433  0.412511  0.412787  ...  0.604037  0.604381  0.604381  0.604381   \n",
       "1  0.423041  0.438584  0.473450  ...  0.985274  0.996241  1.008425  1.008425   \n",
       "2  0.585059  0.603622  0.613535  ...  1.453027  1.453027  1.461611  1.461611   \n",
       "3  0.447423  0.484723  0.493379  ...  0.634710  0.634710  0.634710  0.634710   \n",
       "4  0.462445  0.465632  0.477520  ...  1.577995  1.581251  1.594705  1.594705   \n",
       "\n",
       "      177.0     178.0     179.0     180.0     181.0     182.0  \n",
       "0  0.604381  0.604381  0.604381  0.604381  0.604381  0.604381  \n",
       "1  1.008425  1.008425  1.008425  1.008425  1.008425  1.008425  \n",
       "2  1.461611  1.461611  1.461611  1.461611  1.461611  1.461611  \n",
       "3  0.634710  0.634710  0.634710  0.634710  0.635758  0.635758  \n",
       "4  1.594705  1.599664  1.599664  1.603198  1.611692  1.612399  \n",
       "\n",
       "[5 rows x 185 columns]"
      ]
     },
     "execution_count": 63,
     "metadata": {},
     "output_type": "execute_result"
    }
   ],
   "source": [
    "ltv_raw, ltv, ltv_history = get_ltv(\n",
    "    profiles, df_orders, datetime(2017, 11, 30).date(), 183)\n",
    "\n",
    "ltv_history.tail().reset_index()"
   ]
  },
  {
   "cell_type": "markdown",
   "id": "b8e0144a",
   "metadata": {},
   "source": [
    "### 6.3 Найдем средний и суммарный показатель LTV"
   ]
  },
  {
   "cell_type": "code",
   "execution_count": 64,
   "id": "4727d859",
   "metadata": {},
   "outputs": [
    {
     "data": {
      "text/plain": [
       "1.2678573899903454"
      ]
     },
     "metadata": {},
     "output_type": "display_data"
    },
    {
     "data": {
      "text/plain": [
       "232.0179023682332"
      ]
     },
     "metadata": {},
     "output_type": "display_data"
    }
   ],
   "source": [
    "display(ltv_history[182.0].mean())\n",
    "display(ltv_history[182.0].sum())"
   ]
  },
  {
   "cell_type": "markdown",
   "id": "e52e6996",
   "metadata": {},
   "source": [
    "Средняя ценность клиента за пол года жизни, чей первый приход был до декабря 2017г. равна 1.27"
   ]
  },
  {
   "cell_type": "markdown",
   "id": "f589eb18",
   "metadata": {},
   "source": [
    "## 7. Определим какая когорта (по месяцам первого посещения) принесла больше всего денег за полгода жизни"
   ]
  },
  {
   "cell_type": "markdown",
   "id": "cc083b46",
   "metadata": {},
   "source": [
    "### 7.1 Посмотрим на показатели пользователей с лайфтаймом в пол года"
   ]
  },
  {
   "cell_type": "code",
   "execution_count": 65,
   "id": "aebe7b33",
   "metadata": {},
   "outputs": [
    {
     "data": {
      "text/plain": [
       "array([ 6.82008264,  1.80702128,  1.94216545,  6.0768254 ,  4.36816354,\n",
       "        1.12788873,  1.20006515,  1.45361111,  1.91281961,  0.71803333,\n",
       "        0.80992188,  1.19060811,  0.80861176,  2.92161137,  0.68559184,\n",
       "        1.06515152,  0.70962069,  1.53479839,  1.2959126 ,  1.7423822 ,\n",
       "        0.70153846,  0.8755819 ,  1.25331522,  2.22612676,  0.79580838,\n",
       "        1.21993521,  1.77474359,  1.30637744,  1.08698482,  1.60550409,\n",
       "        1.56308725,  0.45169675,  1.35582121,  0.78990123,  0.98393204,\n",
       "        0.9373617 ,  1.23317757,  0.68080997,  0.70997368,  1.12819149,\n",
       "        1.62532258,  0.87149338,  1.12743464,  1.03893525,  1.05353242,\n",
       "        1.00903448,  2.19749453,  1.58066543,  1.03036058,  1.22326923,\n",
       "        1.77507282,  0.52597826,  1.03953668,  0.79266667,  0.91171014,\n",
       "        0.63222222,  0.51968927,  0.95642857,  0.5679668 ,  1.01478632,\n",
       "        1.46621849,  1.51086817,  0.63038168,  0.76208333,  0.80781132,\n",
       "        0.65132743,  0.67588235,  0.92264901,  0.48944251,  0.6898    ,\n",
       "        0.92692958,  2.08396226,  0.78607143,  0.86430556,  0.88849003,\n",
       "        0.98988669,  0.57634078,  0.72031609,  0.97134328,  0.67806867,\n",
       "        0.75564202,  0.6773913 ,  0.8216095 ,  1.17950249,  1.42404432,\n",
       "        0.79018767,  1.22328076,  0.85378299,  0.92204128,  4.04906178,\n",
       "        0.69738938,  1.4550495 ,  0.60909091,  1.01051913,  0.79260759,\n",
       "        1.44464583,  1.06402174,  0.56457895, 22.0587193 ,  1.23527244,\n",
       "        1.93969231,  0.80448549,  1.78546263,  1.71200864,  0.81841102,\n",
       "        1.42419521,  1.06295413,  0.89268793,  1.08215596,  0.87053963,\n",
       "        0.78223752,  0.86265165,  1.25174709,  2.15065041,  1.141875  ,\n",
       "        0.76764706,  1.52193634,  1.64895095,  0.81405983,  1.25836943,\n",
       "        2.64721535,  0.60848752,  0.66981221,  1.37237079,  1.63756586,\n",
       "        0.86945396,  0.92567308,  1.0563495 ,  0.88599311,  1.11289017,\n",
       "        0.86573876,  0.92979218,  1.01911348,  1.162891  ,  1.75282609,\n",
       "        0.98373874,  0.78589205,  1.23804726,  1.02009321,  0.94176396,\n",
       "        1.04423501,  0.70642708,  0.96772304,  1.12326425,  0.84234694,\n",
       "        1.2752194 ,  1.19043796,  1.02937186,  1.36473684,  0.59104167,\n",
       "        0.85915194,  0.76825996,  0.94642295,  0.61282805,  0.81945946,\n",
       "        0.7296328 ,  0.67341193,  0.81233244,  0.70769333,  0.86922807,\n",
       "        0.91269555,  0.59307116,  0.9455375 ,  1.02232796,  0.73677143,\n",
       "        0.94613982,  0.78053905,  0.73151292,  1.23163717,  0.90597092,\n",
       "        1.4102521 ,  0.65129206,  0.89224359,  0.82314164,  0.60750853,\n",
       "        0.67652041,  1.17340281,  0.55813993,  0.60438073,  1.00842473,\n",
       "        1.46161081,  0.63575832,  1.61239861])"
      ]
     },
     "metadata": {},
     "output_type": "display_data"
    }
   ],
   "source": [
    "display(ltv_history[182.0].unique())"
   ]
  },
  {
   "cell_type": "markdown",
   "id": "ef4b5b4d",
   "metadata": {},
   "source": [
    "### 7.2 Визуализируем общий LTV в динамике за пол года"
   ]
  },
  {
   "cell_type": "code",
   "execution_count": 66,
   "id": "5b41ec1b",
   "metadata": {},
   "outputs": [],
   "source": [
    "# из таблицы ltv исключаем размеры когорт\n",
    "ltv_graf = ltv.drop(columns=['cohort_size'])\n",
    "# в таблице динамики ltv оставляем только нужный лайфтайм\n",
    "ltv_history_graf = ltv_history.drop(columns=['cohort_size'])[[183 - 1]]"
   ]
  },
  {
   "cell_type": "code",
   "execution_count": 67,
   "id": "b8eea0c1",
   "metadata": {},
   "outputs": [
    {
     "data": {
      "image/png": "[encoded data removed]",
      "text/plain": [
       "<Figure size 1440x720 with 1 Axes>"
      ]
     },
     "metadata": {
      "needs_background": "light"
     },
     "output_type": "display_data"
    }
   ],
   "source": [
    "# кривая ltv\n",
    "plt.figure(figsize=(20, 10))\n",
    "ax1 = plt.subplot(2, 3, 1)\n",
    "ltv_graf.T.plot(grid=True, ax=ax1)\n",
    "plt.legend()\n",
    "plt.xlabel('Лайфтайм')\n",
    "plt.title('LTV')\n",
    "plt.tight_layout()\n",
    "plt.show()"
   ]
  },
  {
   "cell_type": "markdown",
   "id": "f63936e3",
   "metadata": {},
   "source": [
    "Как и положено, LTV неуклонно растет с достаточно высоким стартом и резким подъемом на 99-ый день (7 сентября)"
   ]
  },
  {
   "cell_type": "markdown",
   "id": "cac45cf7",
   "metadata": {},
   "source": [
    "### 7.3 Визуализируем LTV за пол года жизни в динамики по когортам первого посещения"
   ]
  },
  {
   "cell_type": "code",
   "execution_count": 68,
   "id": "aa339271",
   "metadata": {},
   "outputs": [
    {
     "data": {
      "image/png": "[encoded data removed]",
      "text/plain": [
       "<Figure size 1800x720 with 1 Axes>"
      ]
     },
     "metadata": {
      "needs_background": "light"
     },
     "output_type": "display_data"
    }
   ],
   "source": [
    "# динамика ltv\n",
    "plt.figure(figsize=(25, 10))\n",
    "ax2 = plt.subplot(2, 3, 2, sharey=ax1)\n",
    "# столбцами сводной таблицы станут все столбцы индекса, кроме даты\n",
    "columns = [name for name in ltv_history_graf.index.names if name not in ['dt']]\n",
    "filtered_data = ltv_history_graf.pivot_table(\n",
    "    index='dt', columns=columns, values=183 - 1, aggfunc='mean'\n",
    ")\n",
    "filtered_data.plot(grid=True, ax=ax2)\n",
    "plt.xlabel('Дата привлечения')\n",
    "plt.title('Динамика LTV пользователей на 183 день')\n",
    "plt.tight_layout()\n",
    "plt.show()"
   ]
  },
  {
   "cell_type": "markdown",
   "id": "bef68257",
   "metadata": {},
   "source": [
    "На графике видно, что когорта сентября имеет самый высокий показатель LTV за пол года жизни, в основном благодаря покупкам 7-ого сентября, где показатель LTV превысил 22 единицы."
   ]
  },
  {
   "cell_type": "code",
   "execution_count": 69,
   "id": "e1bfa46e",
   "metadata": {},
   "outputs": [
    {
     "data": {
      "text/plain": [
       "56.62787699000001"
      ]
     },
     "execution_count": 69,
     "metadata": {},
     "output_type": "execute_result"
    }
   ],
   "source": [
    "September = [0.60909091,  1.01051913,  0.79260759,\n",
    "        1.44464583,  1.06402174,  0.56457895, 22.0587193 ,  1.23527244,\n",
    "        1.93969231,  0.80448549,  1.78546263,  1.71200864,  0.81841102,\n",
    "        1.42419521,  1.06295413,  0.89268793,  1.08215596,  0.87053963,\n",
    "        0.78223752,  0.86265165,  1.25174709,  2.15065041,  1.141875  ,\n",
    "        0.76764706,  1.52193634,  1.64895095,  0.81405983,  1.25836943,\n",
    "        2.64721535,  0.60848752,]\n",
    "sum(September)"
   ]
  },
  {
   "cell_type": "code",
   "execution_count": 70,
   "id": "bb7da4a9",
   "metadata": {},
   "outputs": [
    {
     "data": {
      "text/plain": [
       "31.474943160000002"
      ]
     },
     "execution_count": 70,
     "metadata": {},
     "output_type": "execute_result"
    }
   ],
   "source": [
    "August = [1.51086817,  0.63038168,  0.76208333,  0.80781132,\n",
    "        0.65132743,  0.67588235,  0.92264901,  0.48944251,  0.6898    ,\n",
    "        0.92692958,  2.08396226,  0.78607143,  0.86430556,  0.88849003,\n",
    "        0.98988669,  0.57634078,  0.72031609,  0.97134328,  0.67806867,\n",
    "        0.75564202,  0.6773913 ,  0.8216095 ,  1.17950249,  1.42404432,\n",
    "        0.79018767,  1.22328076,  0.85378299,  0.92204128,  4.04906178,\n",
    "        0.69738938,  1.4550495]\n",
    "sum(August)"
   ]
  },
  {
   "cell_type": "code",
   "execution_count": 71,
   "id": "77ca8049",
   "metadata": {},
   "outputs": [
    {
     "data": {
      "text/plain": [
       "32.79377165"
      ]
     },
     "execution_count": 71,
     "metadata": {},
     "output_type": "execute_result"
    }
   ],
   "source": [
    "July = [1.56308725,  0.45169675,  1.35582121,  0.78990123,  0.98393204,\n",
    "        0.9373617 ,  1.23317757,  0.68080997,  0.70997368,  1.12819149,\n",
    "        1.62532258,  0.87149338,  1.12743464,  1.03893525,  1.05353242,\n",
    "        1.00903448,  2.19749453,  1.58066543,  1.03036058,  1.22326923,\n",
    "        1.77507282,  0.52597826,  1.03953668,  0.79266667,  0.91171014,\n",
    "        0.63222222,  0.51968927,  0.95642857,  0.5679668 ,  1.01478632,\n",
    "        1.46621849,]\n",
    "sum(July)"
   ]
  },
  {
   "cell_type": "code",
   "execution_count": 72,
   "id": "bf044638",
   "metadata": {},
   "outputs": [
    {
     "data": {
      "text/plain": [
       "53.03680247"
      ]
     },
     "execution_count": 72,
     "metadata": {},
     "output_type": "execute_result"
    }
   ],
   "source": [
    "June = [ 6.82008264,  1.80702128,  1.94216545,  6.0768254 ,  4.36816354,\n",
    "        1.12788873,  1.20006515,  1.45361111,  1.91281961,  0.71803333,\n",
    "        0.80992188,  1.19060811,  0.80861176,  2.92161137,  0.68559184,\n",
    "        1.06515152,  0.70962069,  1.53479839,  1.2959126 ,  1.7423822 ,\n",
    "        0.70153846,  0.8755819 ,  1.25331522,  2.22612676,  0.79580838,\n",
    "        1.21993521,  1.77474359,  1.30637744,  1.08698482,  1.60550409,]\n",
    "sum(June)"
   ]
  },
  {
   "cell_type": "code",
   "execution_count": 73,
   "id": "1c796d2f",
   "metadata": {},
   "outputs": [
    {
     "data": {
      "text/plain": [
       "31.93864431"
      ]
     },
     "execution_count": 73,
     "metadata": {},
     "output_type": "execute_result"
    }
   ],
   "source": [
    "October = [0.66981221,  1.37237079,  1.63756586,\n",
    "        0.86945396,  0.92567308,  1.0563495 ,  0.88599311,  1.11289017,\n",
    "        0.86573876,  0.92979218,  1.01911348,  1.162891  ,  1.75282609,\n",
    "        0.98373874,  0.78589205,  1.23804726,  1.02009321,  0.94176396,\n",
    "        1.04423501,  0.70642708,  0.96772304,  1.12326425,  0.84234694,\n",
    "        1.2752194 ,  1.19043796,  1.02937186,  1.36473684,  0.59104167,\n",
    "        0.85915194,  0.76825996,  0.94642295,]\n",
    "sum(October)"
   ]
  },
  {
   "cell_type": "code",
   "execution_count": 74,
   "id": "9234338e",
   "metadata": {},
   "outputs": [
    {
     "data": {
      "text/plain": [
       "26.145863829999996"
      ]
     },
     "execution_count": 74,
     "metadata": {},
     "output_type": "execute_result"
    }
   ],
   "source": [
    "November = [0.61282805,  0.81945946,\n",
    "        0.7296328 ,  0.67341193,  0.81233244,  0.70769333,  0.86922807,\n",
    "        0.91269555,  0.59307116,  0.9455375 ,  1.02232796,  0.73677143,\n",
    "        0.94613982,  0.78053905,  0.73151292,  1.23163717,  0.90597092,\n",
    "        1.4102521 ,  0.65129206,  0.89224359,  0.82314164,  0.60750853,\n",
    "        0.67652041,  1.17340281,  0.55813993,  0.60438073,  1.00842473,\n",
    "        1.46161081,  0.63575832,  1.61239861]\n",
    "sum(November)"
   ]
  },
  {
   "cell_type": "markdown",
   "id": "22a3cab3",
   "metadata": {},
   "source": [
    "Данные таблицы ltv_history потвердили ожидания, показатели LTV в сентябре самые высокие и составляют практически четверть от суммарного показателя пользователей пришедших до декабря 2017 года."
   ]
  },
  {
   "cell_type": "markdown",
   "id": "cf9c7ad8",
   "metadata": {},
   "source": [
    "## 8. Оценим распределение LTV по источнику привлечения и устройству"
   ]
  },
  {
   "cell_type": "markdown",
   "id": "10934d17",
   "metadata": {},
   "source": [
    "### 8.1 Получим таблицы LTV с параметром dimensions на источник"
   ]
  },
  {
   "cell_type": "code",
   "execution_count": 75,
   "id": "1c7f6756",
   "metadata": {},
   "outputs": [
    {
     "data": {
      "text/html": [
       "<div>\n",
       "<style scoped>\n",
       "    .dataframe tbody tr th:only-of-type {\n",
       "        vertical-align: middle;\n",
       "    }\n",
       "\n",
       "    .dataframe tbody tr th {\n",
       "        vertical-align: top;\n",
       "    }\n",
       "\n",
       "    .dataframe thead th {\n",
       "        text-align: right;\n",
       "    }\n",
       "</style>\n",
       "<table border=\"1\" class=\"dataframe\">\n",
       "  <thead>\n",
       "    <tr style=\"text-align: right;\">\n",
       "      <th></th>\n",
       "      <th>source_id</th>\n",
       "      <th>dt</th>\n",
       "      <th>cohort_size</th>\n",
       "      <th>0.0</th>\n",
       "      <th>1.0</th>\n",
       "      <th>2.0</th>\n",
       "      <th>3.0</th>\n",
       "      <th>4.0</th>\n",
       "      <th>5.0</th>\n",
       "      <th>6.0</th>\n",
       "      <th>...</th>\n",
       "      <th>173.0</th>\n",
       "      <th>174.0</th>\n",
       "      <th>175.0</th>\n",
       "      <th>176.0</th>\n",
       "      <th>177.0</th>\n",
       "      <th>178.0</th>\n",
       "      <th>179.0</th>\n",
       "      <th>180.0</th>\n",
       "      <th>181.0</th>\n",
       "      <th>182.0</th>\n",
       "    </tr>\n",
       "  </thead>\n",
       "  <tbody>\n",
       "    <tr>\n",
       "      <th>0</th>\n",
       "      <td>10</td>\n",
       "      <td>2017-11-26</td>\n",
       "      <td>27</td>\n",
       "      <td>0.045185</td>\n",
       "      <td>0.045185</td>\n",
       "      <td>0.045185</td>\n",
       "      <td>0.045185</td>\n",
       "      <td>0.045185</td>\n",
       "      <td>0.045185</td>\n",
       "      <td>0.045185</td>\n",
       "      <td>...</td>\n",
       "      <td>0.144444</td>\n",
       "      <td>0.144444</td>\n",
       "      <td>0.144444</td>\n",
       "      <td>0.144444</td>\n",
       "      <td>0.144444</td>\n",
       "      <td>0.144444</td>\n",
       "      <td>0.144444</td>\n",
       "      <td>0.144444</td>\n",
       "      <td>0.144444</td>\n",
       "      <td>0.144444</td>\n",
       "    </tr>\n",
       "    <tr>\n",
       "      <th>1</th>\n",
       "      <td>10</td>\n",
       "      <td>2017-11-27</td>\n",
       "      <td>30</td>\n",
       "      <td>0.053000</td>\n",
       "      <td>0.053000</td>\n",
       "      <td>0.073333</td>\n",
       "      <td>0.073333</td>\n",
       "      <td>0.073333</td>\n",
       "      <td>0.073333</td>\n",
       "      <td>0.073333</td>\n",
       "      <td>...</td>\n",
       "      <td>0.073333</td>\n",
       "      <td>0.073333</td>\n",
       "      <td>0.073333</td>\n",
       "      <td>0.073333</td>\n",
       "      <td>0.073333</td>\n",
       "      <td>0.073333</td>\n",
       "      <td>0.073333</td>\n",
       "      <td>0.073333</td>\n",
       "      <td>0.073333</td>\n",
       "      <td>0.073333</td>\n",
       "    </tr>\n",
       "    <tr>\n",
       "      <th>2</th>\n",
       "      <td>10</td>\n",
       "      <td>2017-11-28</td>\n",
       "      <td>17</td>\n",
       "      <td>0.441765</td>\n",
       "      <td>0.441765</td>\n",
       "      <td>0.441765</td>\n",
       "      <td>0.441765</td>\n",
       "      <td>0.441765</td>\n",
       "      <td>0.441765</td>\n",
       "      <td>0.441765</td>\n",
       "      <td>...</td>\n",
       "      <td>0.657647</td>\n",
       "      <td>0.657647</td>\n",
       "      <td>0.657647</td>\n",
       "      <td>0.657647</td>\n",
       "      <td>0.657647</td>\n",
       "      <td>0.657647</td>\n",
       "      <td>0.657647</td>\n",
       "      <td>0.657647</td>\n",
       "      <td>0.657647</td>\n",
       "      <td>0.657647</td>\n",
       "    </tr>\n",
       "    <tr>\n",
       "      <th>3</th>\n",
       "      <td>10</td>\n",
       "      <td>2017-11-29</td>\n",
       "      <td>27</td>\n",
       "      <td>0.860370</td>\n",
       "      <td>1.086667</td>\n",
       "      <td>1.086667</td>\n",
       "      <td>1.086667</td>\n",
       "      <td>1.086667</td>\n",
       "      <td>1.086667</td>\n",
       "      <td>1.086667</td>\n",
       "      <td>...</td>\n",
       "      <td>1.199630</td>\n",
       "      <td>1.199630</td>\n",
       "      <td>1.199630</td>\n",
       "      <td>1.199630</td>\n",
       "      <td>1.199630</td>\n",
       "      <td>1.199630</td>\n",
       "      <td>1.199630</td>\n",
       "      <td>1.199630</td>\n",
       "      <td>1.199630</td>\n",
       "      <td>1.199630</td>\n",
       "    </tr>\n",
       "    <tr>\n",
       "      <th>4</th>\n",
       "      <td>10</td>\n",
       "      <td>2017-11-30</td>\n",
       "      <td>17</td>\n",
       "      <td>0.143529</td>\n",
       "      <td>0.147059</td>\n",
       "      <td>0.147059</td>\n",
       "      <td>0.147059</td>\n",
       "      <td>0.147059</td>\n",
       "      <td>0.147059</td>\n",
       "      <td>0.147059</td>\n",
       "      <td>...</td>\n",
       "      <td>0.290588</td>\n",
       "      <td>0.290588</td>\n",
       "      <td>0.290588</td>\n",
       "      <td>0.290588</td>\n",
       "      <td>0.290588</td>\n",
       "      <td>0.290588</td>\n",
       "      <td>0.290588</td>\n",
       "      <td>0.290588</td>\n",
       "      <td>0.290588</td>\n",
       "      <td>0.290588</td>\n",
       "    </tr>\n",
       "  </tbody>\n",
       "</table>\n",
       "<p>5 rows × 186 columns</p>\n",
       "</div>"
      ],
      "text/plain": [
       "   source_id          dt  cohort_size       0.0       1.0       2.0       3.0  \\\n",
       "0         10  2017-11-26           27  0.045185  0.045185  0.045185  0.045185   \n",
       "1         10  2017-11-27           30  0.053000  0.053000  0.073333  0.073333   \n",
       "2         10  2017-11-28           17  0.441765  0.441765  0.441765  0.441765   \n",
       "3         10  2017-11-29           27  0.860370  1.086667  1.086667  1.086667   \n",
       "4         10  2017-11-30           17  0.143529  0.147059  0.147059  0.147059   \n",
       "\n",
       "        4.0       5.0       6.0  ...     173.0     174.0     175.0     176.0  \\\n",
       "0  0.045185  0.045185  0.045185  ...  0.144444  0.144444  0.144444  0.144444   \n",
       "1  0.073333  0.073333  0.073333  ...  0.073333  0.073333  0.073333  0.073333   \n",
       "2  0.441765  0.441765  0.441765  ...  0.657647  0.657647  0.657647  0.657647   \n",
       "3  1.086667  1.086667  1.086667  ...  1.199630  1.199630  1.199630  1.199630   \n",
       "4  0.147059  0.147059  0.147059  ...  0.290588  0.290588  0.290588  0.290588   \n",
       "\n",
       "      177.0     178.0     179.0     180.0     181.0     182.0  \n",
       "0  0.144444  0.144444  0.144444  0.144444  0.144444  0.144444  \n",
       "1  0.073333  0.073333  0.073333  0.073333  0.073333  0.073333  \n",
       "2  0.657647  0.657647  0.657647  0.657647  0.657647  0.657647  \n",
       "3  1.199630  1.199630  1.199630  1.199630  1.199630  1.199630  \n",
       "4  0.290588  0.290588  0.290588  0.290588  0.290588  0.290588  \n",
       "\n",
       "[5 rows x 186 columns]"
      ]
     },
     "execution_count": 75,
     "metadata": {},
     "output_type": "execute_result"
    }
   ],
   "source": [
    "dimensions = ['source_id']\n",
    "ltv_raw, ltv, ltv_history = get_ltv(\n",
    "    profiles, df_orders, datetime(2017, 11, 30).date(), 183, dimensions=dimensions)\n",
    "\n",
    "ltv_history.tail().reset_index()"
   ]
  },
  {
   "cell_type": "markdown",
   "id": "08ab28a2",
   "metadata": {},
   "source": [
    "### 8.2 Визуализируем LTV в соответствии с источником привлечения пользователей"
   ]
  },
  {
   "cell_type": "code",
   "execution_count": 76,
   "id": "a7fb863e",
   "metadata": {},
   "outputs": [],
   "source": [
    "# из таблицы ltv исключаем размеры когорт\n",
    "ltv_source_id = ltv.drop(columns=['cohort_size'])\n",
    "# в таблице динамики ltv оставляем только нужный лайфтайм\n",
    "ltv_history_source_id = ltv_history.drop(columns=['cohort_size'])[[183 - 1]]"
   ]
  },
  {
   "cell_type": "code",
   "execution_count": 77,
   "id": "2fffc12b",
   "metadata": {},
   "outputs": [
    {
     "data": {
      "image/png": "[encoded data removed]",
      "text/plain": [
       "<Figure size 2880x1440 with 1 Axes>"
      ]
     },
     "metadata": {
      "needs_background": "light"
     },
     "output_type": "display_data"
    }
   ],
   "source": [
    "# кривая ltv по источникам\n",
    "plt.figure(figsize=(40, 20))\n",
    "ax1 = plt.subplot(2, 3, 1)\n",
    "ltv_source_id.T.plot(grid=True, ax=ax1)\n",
    "plt.legend()\n",
    "plt.xlabel('Лайфтайм')\n",
    "plt.title('Показатели LTV в соответствии с источником')\n",
    "plt.tight_layout()\n",
    "plt.show()"
   ]
  },
  {
   "cell_type": "markdown",
   "id": "58cea7a0",
   "metadata": {},
   "source": [
    "Первый и второй канал лидируют, скачок LTV 7-ого сентября приходится на пользователей, кто пришел по 5 источнику. Остальные примерно на одном уровне."
   ]
  },
  {
   "cell_type": "markdown",
   "id": "455719c7",
   "metadata": {},
   "source": [
    "### 8.3 Получим таблицы LTV, но уже с параметром dimensions на устройство"
   ]
  },
  {
   "cell_type": "code",
   "execution_count": 78,
   "id": "340726b3",
   "metadata": {},
   "outputs": [
    {
     "data": {
      "text/html": [
       "<div>\n",
       "<style scoped>\n",
       "    .dataframe tbody tr th:only-of-type {\n",
       "        vertical-align: middle;\n",
       "    }\n",
       "\n",
       "    .dataframe tbody tr th {\n",
       "        vertical-align: top;\n",
       "    }\n",
       "\n",
       "    .dataframe thead th {\n",
       "        text-align: right;\n",
       "    }\n",
       "</style>\n",
       "<table border=\"1\" class=\"dataframe\">\n",
       "  <thead>\n",
       "    <tr style=\"text-align: right;\">\n",
       "      <th></th>\n",
       "      <th>device</th>\n",
       "      <th>dt</th>\n",
       "      <th>cohort_size</th>\n",
       "      <th>0.0</th>\n",
       "      <th>1.0</th>\n",
       "      <th>2.0</th>\n",
       "      <th>3.0</th>\n",
       "      <th>4.0</th>\n",
       "      <th>5.0</th>\n",
       "      <th>6.0</th>\n",
       "      <th>...</th>\n",
       "      <th>173.0</th>\n",
       "      <th>174.0</th>\n",
       "      <th>175.0</th>\n",
       "      <th>176.0</th>\n",
       "      <th>177.0</th>\n",
       "      <th>178.0</th>\n",
       "      <th>179.0</th>\n",
       "      <th>180.0</th>\n",
       "      <th>181.0</th>\n",
       "      <th>182.0</th>\n",
       "    </tr>\n",
       "  </thead>\n",
       "  <tbody>\n",
       "    <tr>\n",
       "      <th>0</th>\n",
       "      <td>touch</td>\n",
       "      <td>2017-11-26</td>\n",
       "      <td>280</td>\n",
       "      <td>0.195786</td>\n",
       "      <td>0.195786</td>\n",
       "      <td>0.231571</td>\n",
       "      <td>0.231571</td>\n",
       "      <td>0.231571</td>\n",
       "      <td>0.231571</td>\n",
       "      <td>0.231571</td>\n",
       "      <td>...</td>\n",
       "      <td>0.360929</td>\n",
       "      <td>0.360929</td>\n",
       "      <td>0.360929</td>\n",
       "      <td>0.360929</td>\n",
       "      <td>0.360929</td>\n",
       "      <td>0.360929</td>\n",
       "      <td>0.360929</td>\n",
       "      <td>0.360929</td>\n",
       "      <td>0.360929</td>\n",
       "      <td>0.360929</td>\n",
       "    </tr>\n",
       "    <tr>\n",
       "      <th>1</th>\n",
       "      <td>touch</td>\n",
       "      <td>2017-11-27</td>\n",
       "      <td>257</td>\n",
       "      <td>0.368872</td>\n",
       "      <td>0.383696</td>\n",
       "      <td>0.410078</td>\n",
       "      <td>0.410078</td>\n",
       "      <td>0.410078</td>\n",
       "      <td>0.410078</td>\n",
       "      <td>0.467160</td>\n",
       "      <td>...</td>\n",
       "      <td>0.706809</td>\n",
       "      <td>0.706809</td>\n",
       "      <td>0.706809</td>\n",
       "      <td>0.706809</td>\n",
       "      <td>0.706809</td>\n",
       "      <td>0.706809</td>\n",
       "      <td>0.706809</td>\n",
       "      <td>0.706809</td>\n",
       "      <td>0.706809</td>\n",
       "      <td>0.706809</td>\n",
       "    </tr>\n",
       "    <tr>\n",
       "      <th>2</th>\n",
       "      <td>touch</td>\n",
       "      <td>2017-11-28</td>\n",
       "      <td>222</td>\n",
       "      <td>0.146171</td>\n",
       "      <td>0.161486</td>\n",
       "      <td>0.183514</td>\n",
       "      <td>0.216532</td>\n",
       "      <td>0.224685</td>\n",
       "      <td>0.231577</td>\n",
       "      <td>0.231577</td>\n",
       "      <td>...</td>\n",
       "      <td>0.438288</td>\n",
       "      <td>0.438288</td>\n",
       "      <td>0.438288</td>\n",
       "      <td>0.438288</td>\n",
       "      <td>0.438288</td>\n",
       "      <td>0.438288</td>\n",
       "      <td>0.438288</td>\n",
       "      <td>0.438288</td>\n",
       "      <td>0.438288</td>\n",
       "      <td>0.438288</td>\n",
       "    </tr>\n",
       "    <tr>\n",
       "      <th>3</th>\n",
       "      <td>touch</td>\n",
       "      <td>2017-11-29</td>\n",
       "      <td>180</td>\n",
       "      <td>0.143556</td>\n",
       "      <td>0.149667</td>\n",
       "      <td>0.318722</td>\n",
       "      <td>0.318722</td>\n",
       "      <td>0.337556</td>\n",
       "      <td>0.367778</td>\n",
       "      <td>0.367778</td>\n",
       "      <td>...</td>\n",
       "      <td>0.475611</td>\n",
       "      <td>0.475611</td>\n",
       "      <td>0.475611</td>\n",
       "      <td>0.475611</td>\n",
       "      <td>0.475611</td>\n",
       "      <td>0.475611</td>\n",
       "      <td>0.475611</td>\n",
       "      <td>0.475611</td>\n",
       "      <td>0.475611</td>\n",
       "      <td>0.475611</td>\n",
       "    </tr>\n",
       "    <tr>\n",
       "      <th>4</th>\n",
       "      <td>touch</td>\n",
       "      <td>2017-11-30</td>\n",
       "      <td>210</td>\n",
       "      <td>0.216524</td>\n",
       "      <td>0.232667</td>\n",
       "      <td>0.232667</td>\n",
       "      <td>0.255952</td>\n",
       "      <td>0.261762</td>\n",
       "      <td>0.261762</td>\n",
       "      <td>0.261762</td>\n",
       "      <td>...</td>\n",
       "      <td>0.370619</td>\n",
       "      <td>0.370619</td>\n",
       "      <td>0.370619</td>\n",
       "      <td>0.370619</td>\n",
       "      <td>0.370619</td>\n",
       "      <td>0.370619</td>\n",
       "      <td>0.370619</td>\n",
       "      <td>0.370619</td>\n",
       "      <td>0.370619</td>\n",
       "      <td>0.370619</td>\n",
       "    </tr>\n",
       "  </tbody>\n",
       "</table>\n",
       "<p>5 rows × 186 columns</p>\n",
       "</div>"
      ],
      "text/plain": [
       "  device          dt  cohort_size       0.0       1.0       2.0       3.0  \\\n",
       "0  touch  2017-11-26          280  0.195786  0.195786  0.231571  0.231571   \n",
       "1  touch  2017-11-27          257  0.368872  0.383696  0.410078  0.410078   \n",
       "2  touch  2017-11-28          222  0.146171  0.161486  0.183514  0.216532   \n",
       "3  touch  2017-11-29          180  0.143556  0.149667  0.318722  0.318722   \n",
       "4  touch  2017-11-30          210  0.216524  0.232667  0.232667  0.255952   \n",
       "\n",
       "        4.0       5.0       6.0  ...     173.0     174.0     175.0     176.0  \\\n",
       "0  0.231571  0.231571  0.231571  ...  0.360929  0.360929  0.360929  0.360929   \n",
       "1  0.410078  0.410078  0.467160  ...  0.706809  0.706809  0.706809  0.706809   \n",
       "2  0.224685  0.231577  0.231577  ...  0.438288  0.438288  0.438288  0.438288   \n",
       "3  0.337556  0.367778  0.367778  ...  0.475611  0.475611  0.475611  0.475611   \n",
       "4  0.261762  0.261762  0.261762  ...  0.370619  0.370619  0.370619  0.370619   \n",
       "\n",
       "      177.0     178.0     179.0     180.0     181.0     182.0  \n",
       "0  0.360929  0.360929  0.360929  0.360929  0.360929  0.360929  \n",
       "1  0.706809  0.706809  0.706809  0.706809  0.706809  0.706809  \n",
       "2  0.438288  0.438288  0.438288  0.438288  0.438288  0.438288  \n",
       "3  0.475611  0.475611  0.475611  0.475611  0.475611  0.475611  \n",
       "4  0.370619  0.370619  0.370619  0.370619  0.370619  0.370619  \n",
       "\n",
       "[5 rows x 186 columns]"
      ]
     },
     "execution_count": 78,
     "metadata": {},
     "output_type": "execute_result"
    }
   ],
   "source": [
    "dimensions = ['device']\n",
    "ltv_raw, ltv, ltv_history = get_ltv(\n",
    "    profiles, df_orders, datetime(2017, 11, 30).date(), 183, dimensions=dimensions)\n",
    "\n",
    "ltv_history.tail().reset_index()"
   ]
  },
  {
   "cell_type": "markdown",
   "id": "eb286bff",
   "metadata": {},
   "source": [
    "### 8.4 Визуализируем LTV в соответствии с устройством пользователя"
   ]
  },
  {
   "cell_type": "code",
   "execution_count": 79,
   "id": "a7f0df05",
   "metadata": {},
   "outputs": [],
   "source": [
    "# из таблицы ltv исключаем размеры когорт\n",
    "ltv_source_id = ltv.drop(columns=['cohort_size'])\n",
    "# в таблице динамики ltv оставляем только нужный лайфтайм\n",
    "ltv_history_source_id = ltv_history.drop(columns=['cohort_size'])[[183 - 1]]"
   ]
  },
  {
   "cell_type": "code",
   "execution_count": 80,
   "id": "4fb793ea",
   "metadata": {},
   "outputs": [
    {
     "data": {
      "image/png": "[encoded data removed]",
      "text/plain": [
       "<Figure size 2520x1080 with 1 Axes>"
      ]
     },
     "metadata": {
      "needs_background": "light"
     },
     "output_type": "display_data"
    }
   ],
   "source": [
    "# кривая ltv по устройствам\n",
    "plt.figure(figsize=(35, 15))\n",
    "ax1 = plt.subplot(2, 3, 1)\n",
    "ltv_source_id.T.plot(grid=True, ax=ax1)\n",
    "plt.legend()\n",
    "plt.xlabel('Лайфтайм')\n",
    "plt.title('Показатели LTV в соответствии с устройством')\n",
    "plt.tight_layout()\n",
    "plt.show()"
   ]
  },
  {
   "cell_type": "markdown",
   "id": "15d0fc50",
   "metadata": {},
   "source": [
    "Как и ожидалось лидерство за пользователями кто использует компьютер, от туда и клиенты 7-ого сентября"
   ]
  },
  {
   "cell_type": "markdown",
   "id": "43dc927e",
   "metadata": {},
   "source": [
    "## 9. Вывод по проекту и рекомендации"
   ]
  },
  {
   "cell_type": "markdown",
   "id": "61a4bbce",
   "metadata": {},
   "source": [
    "Вывод:\n",
    "\n",
    "При работе с датасетом были выполнены следующие действия.\n",
    "\n",
    "Загрузили данные и предварительно с ними ознакомились. Провели предобработку данных, а именно:\n",
    "\n",
    "Исправили заголовки столбцов и привели их к \"хорошему\" стилю. Изменили тип данных во всех трёх таблицах в столбцах с датами Проверили таблицы на наличие дубликатов (дубликатов нет)\n",
    "Были заданы необходимые функции: связующая функция для создания пользовательских профилей и функция для расчета LTV\n",
    "\n",
    "Больше всего средств было потрачено на 3-ий источник, почти в 2,5 раза больше чем на 4-ый, который занимает второе место. Далее идет 5-ый источник, траты на который составляют около 36% от 3-его.\n",
    "На 9-ый и 10-ый источник потрачено примерно одинаковое количество средств, и на порядок меньше чем на другие.\n",
    "\n",
    "Средний показатель LTV для пользователей пришедших до декабря 2017г. за пол года жизни составил 1.27\n",
    "\n",
    "Исследовательский анализ показал, что самая высокая конверсия в покупателей у пользователей из 1-ого источника 30%.\n",
    "У трех лидеров по количеству инвестиций большой приток пользователей в 7, 6 и 5 раз выше чем у 1-ого, но конверсия самая низкая 14.08-15.84 среди источников работающих на платной основе. Следом за 1-ым идет второй источник с конверсией в 20%.\n",
    "\n",
    "Показатели LTV так же за 1-ым источником, чей уровень по прошествии пол года составил выше 3.5 единицы, далее покупатели из 2-ого источника, их показатель 2.4. Клиенты, чьи покупки 7-ого сентября стали аномальными, пришли по 5-ому источнику. Благодаря этому, показатели LTV достигли отметки в 1.4. Все остальные каналы показывают уровень LTV на полугодовой лайфтайм ниже среднего уровня.\n",
    "\n",
    "Что касается устройств, то все показатели за пользователями использующими компьютер, клиенты 7-ого сентября так же относятся к этой категории.\n",
    "\n",
    "Благодаря покупкам все того же 7-ого сентября, когорта пользователей, которые пришли впервые в этом месяце стала лидирующей. Без этой аномалии, уровень LTV был таким же как и в другие месяцы. Меньше всего покупок было произведено в ноябре. А в июне наблюдался пик покупок, отставания LTV от когорты сентября составило 5%. \n",
    "\n",
    "Рекомендации:\n",
    "\n",
    "Источники привлечения 3 и 4 имеют самую высокую стоимость вложений, а показатели LTV одни из самых низких и ниже среднего LTV. Конверсия в покупателей так же ниже других источников. Следует распределить бюджет этих источников и направить его в 1 и 2, где самые высокие показатели LTV и конверсии, стоимость так же значительно ниже 3-его и 4-ого. \n",
    "\n",
    "Рекомендуется изучить аудиторию 5-ого источника и аномалию в покупках 7-ого сентября, Произвести сегментацию пользователей источников 3-4 и 1-2 с целью определения целевой аудитории. \n",
    "\n",
    "Зона целевой аудитории находится среди пользователей использующих для входа устройства desktop\n",
    "\n",
    "Как и во многих других случаях стоит либо усиливать и менять ту структуру которая есть, или же искать новые пути решения в виде других рекламных источников. Я отдаю предпочтения усилению и изменению бюджета инвестирования в пользу каналов 1 и 2, по которым мы уже имеем статистику и можем предугадать дальнейшее поведение.\n",
    "\n",
    "Так же стоит обратить внимание на такие показатели как CAC и ROI, которые могут внести дополнительную ясность в картину и степень окупаемости источников привлечения."
   ]
  }
 ],
 "metadata": {
  "kernelspec": {
   "display_name": "Python 3 (ipykernel)",
   "language": "python",
   "name": "python3"
  },
  "language_info": {
   "codemirror_mode": {
    "name": "ipython",
    "version": 3
   },
   "file_extension": ".py",
   "mimetype": "text/x-python",
   "name": "python",
   "nbconvert_exporter": "python",
   "pygments_lexer": "ipython3",
   "version": "3.9.7"
  }
 },
 "nbformat": 4,
 "nbformat_minor": 5
}
