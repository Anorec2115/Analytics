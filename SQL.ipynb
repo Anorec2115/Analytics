{
 "cells": [
  {
   "cell_type": "markdown",
   "id": "acdd0122",
   "metadata": {},
   "source": [
    "## Примеры SQL запросов"
   ]
  },
  {
   "cell_type": "markdown",
   "id": "c4739f2a",
   "metadata": {},
   "source": [
    "Составим таблицу из полей:\n",
    "    name_of_fund — название фонда;\n",
    "    name_of_company — название компании;\n",
    "    amount — сумма инвестиций, которую привлекла компания в раунде.\n",
    "В таблицу войдут данные о компаниях, в истории которых было больше шести важных этапов, а раунды финансирования проходили с 2012 по 2013 год включительно."
   ]
  },
  {
   "cell_type": "code",
   "execution_count": null,
   "id": "6b02b94b",
   "metadata": {},
   "outputs": [],
   "source": [
    "WITH\n",
    "cm AS (SELECT id,\n",
    "              name AS name_of_company\n",
    "       FROM company\n",
    "       WHERE milestones > 6),\n",
    "       \n",
    "fr AS (SELECT company_id,\n",
    "              id,\n",
    "              raised_amount\n",
    "       FROM funding_round\n",
    "       WHERE EXTRACT(YEAR FROM CAST(funded_at AS date)) BETWEEN '2012' AND '2013'),\n",
    "       \n",
    "inv AS (SELECT funding_round_id,\n",
    "               fund_id\n",
    "       FROM investment),\n",
    "       \n",
    "fun AS (SELECT id,\n",
    "               name\n",
    "        FROM fund)\n",
    "        \n",
    "SELECT fun.name AS name_of_fund,\n",
    "       cm.name_of_company AS name_of_company,\n",
    "       fr.raised_amount AS amount\n",
    "FROM cm\n",
    "JOIN fr ON cm.id=fr.company_id\n",
    "JOIN inv ON fr.id=inv.funding_round_id\n",
    "JOIN fun ON inv.fund_id= fun.id\n"
   ]
  },
  {
   "cell_type": "markdown",
   "id": "672c2949",
   "metadata": {},
   "source": [
    "Отберем данные по месяцам с 2010 по 2013 год, когда проходили инвестиционные раунды. Сгруппируем данные по номеру месяца и получим таблицу, в которой будут поля: \n",
    "    номер месяца, в котором проходили раунды; \n",
    "    количество уникальных названий фондов из США, которые инвестировали в этом месяце; \n",
    "    количество компаний, купленных за этот месяц; \n",
    "    общая сумма сделок по покупкам в этом месяце."
   ]
  },
  {
   "cell_type": "code",
   "execution_count": null,
   "id": "a7a75210",
   "metadata": {},
   "outputs": [],
   "source": [
    "WITH\n",
    "i AS (\n",
    "    SELECT EXTRACT(MONTH FROM CAST(fr.funded_at AS date)) AS month,\n",
    "           COUNT(DISTINCT (i.fund_id)) AS fund_number\n",
    "     FROM funding_round AS fr\n",
    "     LEFT JOIN investment AS i ON fr.id = i.funding_round_id\n",
    "     LEFT JOIN fund AS f ON i.fund_id = f.id\n",
    "     WHERE f.country_code = 'USA'\n",
    "     AND EXTRACT(YEAR FROM CAST(fr.funded_at AS date)) BETWEEN 2010 AND 2013\n",
    "     GROUP BY EXTRACT(MONTH FROM CAST(fr.funded_at AS date))\n",
    "),\n",
    "ta AS (\n",
    "       SELECT EXTRACT(MONTH FROM CAST(a.acquired_at AS date)) AS month,\n",
    "              COUNT(a.acquired_company_id) AS bought_cm,\n",
    "              SUM(a.price_amount) AS amount\n",
    "      FROM  acquisition AS a\n",
    "      WHERE EXTRACT(YEAR FROM CAST(a.acquired_at AS date)) BETWEEN 2010 AND 2013\n",
    "      GROUP BY MONTH)\n",
    "SELECT i.month,\n",
    "       i.fund_number,\n",
    "       ta.bought_cm,\n",
    "       ta.amount\n",
    "FROM i inner join ta ON i.month=ta.month"
   ]
  },
  {
   "cell_type": "markdown",
   "id": "c85a5304",
   "metadata": {},
   "source": [
    "Составим сводную таблицу и выведим среднюю сумму инвестиций для стран, в которых есть стартапы, зарегистрированные в 2011, 2012 и 2013 годах. Данные за каждый год будут в отдельном поле. Отсортируем таблицу по среднему значению инвестиций за 2011 год от большего к меньшему."
   ]
  },
  {
   "cell_type": "code",
   "execution_count": null,
   "id": "a92b330f",
   "metadata": {},
   "outputs": [],
   "source": [
    "WITH\n",
    "\n",
    "i AS (SELECT country_code AS country,\n",
    "             AVG(funding_total) AS funding_total_2011\n",
    "      FROM company\n",
    "      WHERE EXTRACT(YEAR FROM CAST(founded_at AS date)) = '2011'\n",
    "      GROUP BY country_code),\n",
    "      \n",
    "j AS (SELECT country_code AS country,\n",
    "             AVG(funding_total) AS funding_total_2012\n",
    "      FROM company\n",
    "      WHERE EXTRACT(YEAR FROM CAST(founded_at AS date)) = '2012'\n",
    "      GROUP BY country_code),\n",
    "      \n",
    "l AS (SELECT country_code AS country,\n",
    "             AVG(funding_total) AS funding_total_2013\n",
    "      FROM company\n",
    "      WHERE EXTRACT(YEAR FROM CAST(founded_at AS date)) = '2013'\n",
    "      GROUP BY country_code)\n",
    "      \n",
    "SELECT i.country,\n",
    "       i.funding_total_2011,\n",
    "       j.funding_total_2012,\n",
    "       l.funding_total_2013\n",
    "FROM i\n",
    "JOIN j ON i.country=j.country\n",
    "JOIN l ON j.country=l.country\n",
    "ORDER BY i.funding_total_2011 DESC"
   ]
  },
  {
   "cell_type": "markdown",
   "id": "d2d55b70",
   "metadata": {},
   "source": [
    "Сформируем статистику по категориям фильмов. Отобразим в итоговой таблице два поля:\n",
    "    название категории;\n",
    "    число фильмов из этой категории.\n",
    "Фильмы для второго поля отберем по условию. Посчитаем фильмы только с теми актёрами и актрисами, которые больше семи раз снимались в фильмах, вышедших после 2013 года. \n",
    "Назовем поля name_category и total_films соответственно. Отсортируем таблицу по количеству фильмов от большего к меньшему, а затем по полю с названием категории в лексикографическом порядке."
   ]
  },
  {
   "cell_type": "code",
   "execution_count": null,
   "id": "ca64d200",
   "metadata": {},
   "outputs": [],
   "source": [
    "SELECT c.name as name_category,\n",
    "       count(DISTINCT movies.film_id) as total_films\n",
    "FROM           \n",
    "     (SELECT movie.film_id \n",
    "              FROM movie inner join film_category fc on movie.film_id=fc.film_id\n",
    "              INNER JOIN film_actor fa on fc.film_id=fa.film_id\n",
    "      WHERE fa.actor_id in  (SELECT fa.actor_id\n",
    "                                FROM movie INNER JOIN film_category fc on movie.film_id=fc.film_id\n",
    "                                           INNER JOIN film_actor fa on fc.film_id=fa.film_id\n",
    "                                WHERE release_year>2013\n",
    "                                GROUP BY fa.actor_id \n",
    "                                HAVING count(movie.film_id)>7)\n",
    "     ) movies     \n",
    "        INNER JOIN film_category fc on movies.film_id=fc.film_id\n",
    "        INNER JOIN category c on fc.category_id=c.category_id\n",
    "GROUP BY name_category \n",
    "ORDER BY total_films desc, name_category "
   ]
  },
  {
   "cell_type": "markdown",
   "id": "9104d3aa",
   "metadata": {},
   "source": [
    "Определим, летом какого года общая выручка в магазине была максимальной. Затем проанализируем данные за этот год по странам. Выгрузим таблицу с полями:\n",
    "    country — название страны;\n",
    "    total_invoice — число заказов, оформленных в этой стране в тот год, когда общая выручка за лето была максимальной;\n",
    "    total_customer — число клиентов, зарегистрированных в этой стране.\n",
    "Отсортируем таблицу по убыванию значений в поле total_invoice, а затем добавим сортировку по названию страны в лексикографическом порядке."
   ]
  },
  {
   "cell_type": "code",
   "execution_count": null,
   "id": "cb8d141c",
   "metadata": {},
   "outputs": [],
   "source": [
    "SELECT l.country,\n",
    "       COUNT(j.customer_id) AS total_invoice,\n",
    "       l.total_customer\n",
    "FROM  \n",
    "   (SELECT customer_id\n",
    "   FROM invoice\n",
    "   WHERE EXTRACT(YEAR FROM CAST(invoice_date AS date)) IN (SELECT EXTRACT(YEAR FROM CAST(invoice_date AS date)) AS date_all\n",
    "                                                              FROM invoice \n",
    "                                                              WHERE EXTRACT(MONTH FROM CAST(invoice_date AS date)) BETWEEN '6' AND '8'\n",
    "                                                              GROUP BY date_all\n",
    "                                                              ORDER BY SUM(total) DESC\n",
    "                                                              LIMIT 1)) AS i\n",
    "JOIN\n",
    "   (SELECT customer_id,\n",
    "           billing_country\n",
    "    FROM invoice\n",
    "    GROUP by customer_id, billing_country) AS j ON i.customer_id=j.customer_id\n",
    "JOIN\n",
    "   (SELECT country,\n",
    "           COUNT(customer_id) AS total_customer\n",
    "    FROM client as cl\n",
    "    GROUP BY country) AS l ON j.billing_country=l.country\n",
    "GROUP BY l.country, l.total_customer\n",
    "ORDER BY total_invoice DESC, country"
   ]
  }
 ],
 "metadata": {
  "kernelspec": {
   "display_name": "Python 3 (ipykernel)",
   "language": "python",
   "name": "python3"
  },
  "language_info": {
   "codemirror_mode": {
    "name": "ipython",
    "version": 3
   },
   "file_extension": ".py",
   "mimetype": "text/x-python",
   "name": "python",
   "nbconvert_exporter": "python",
   "pygments_lexer": "ipython3",
   "version": "3.9.7"
  }
 },
 "nbformat": 4,
 "nbformat_minor": 5
}
